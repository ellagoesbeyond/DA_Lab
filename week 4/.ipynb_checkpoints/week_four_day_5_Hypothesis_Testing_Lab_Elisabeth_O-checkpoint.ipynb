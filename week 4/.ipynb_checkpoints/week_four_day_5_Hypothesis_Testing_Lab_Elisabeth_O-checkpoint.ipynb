{
 "cells": [
  {
   "cell_type": "markdown",
   "id": "0b6fbfcf",
   "metadata": {},
   "source": [
    "__INSTRUCTIONS__\n",
    "- It is assumed that the mean systolic blood pressure is μ = 120 mm Hg. In the Honolulu Heart Study, a sample of n = 100 people had an average systolic blood pressure of 130.1 mm Hg with a standard deviation of 21.21 mm Hg. Is the group significantly different (with respect to systolic blood pressure!) from the regular population?\n",
    "\n",
    "1. Set up the hypothesis test.\n",
    "2. Write down all the steps followed for setting up the test.\n",
    "3. Calculate the test statistic by hand and also code it in Python. It should be 4.76190. What decision can you make based on this calculated value?"
   ]
  },
  {
   "cell_type": "code",
   "execution_count": 1,
   "id": "a074ef6f",
   "metadata": {},
   "outputs": [],
   "source": [
    "pop_mean=120\n",
    "n=100\n",
    "sam_mean=130.1\n",
    "sam_std=21.21"
   ]
  },
  {
   "cell_type": "markdown",
   "id": "ceaa557c",
   "metadata": {},
   "source": [
    "-  Ho = 120  Ha != 120\n",
    "- Which means its two tailed test \n",
    "- n is above 30 --> z-test __BUT__ no population std. dev. is know --> __t-test__ \n",
    "\n",
    "1. Calculate t - statistic\n",
    "\n",
    "\n",
    "\n",
    "\n"
   ]
  },
  {
   "cell_type": "code",
   "execution_count": 5,
   "id": "036f60b1",
   "metadata": {},
   "outputs": [
    {
     "data": {
      "text/plain": [
       "4.761904761904759"
      ]
     },
     "execution_count": 5,
     "metadata": {},
     "output_type": "execute_result"
    }
   ],
   "source": [
    "t = (sam_mean - pop_mean)/ (21.21/100**0.5)\n",
    "t"
   ]
  },
  {
   "cell_type": "code",
   "execution_count": 19,
   "id": "e0bdfb19",
   "metadata": {},
   "outputs": [],
   "source": [
    "\n",
    "from scipy import stats"
   ]
  },
  {
   "cell_type": "code",
   "execution_count": 22,
   "id": "38134326",
   "metadata": {},
   "outputs": [
    {
     "data": {
      "text/plain": [
       "1.9842169515086827"
      ]
     },
     "execution_count": 22,
     "metadata": {},
     "output_type": "execute_result"
    }
   ],
   "source": [
    "from_t_table=1.984 \n",
    "tc= scipy.stats.t.ppf(0.975,99)\n",
    "tc"
   ]
  },
  {
   "cell_type": "markdown",
   "id": "2c0f22cd",
   "metadata": {},
   "source": [
    "    The critical value is at 1.984 and our t-statistic is waay higher. \n",
    "    \n",
    "Which concludes that the Hypothesis that the avg. systolic blood pressure __IS NOT__ 120 mm Hg. therefore we reject the Hypothesis.\n"
   ]
  },
  {
   "cell_type": "code",
   "execution_count": null,
   "id": "da8dd3e9",
   "metadata": {},
   "outputs": [],
   "source": []
  }
 ],
 "metadata": {
  "kernelspec": {
   "display_name": "Python 3 (ipykernel)",
   "language": "python",
   "name": "python3"
  },
  "language_info": {
   "codemirror_mode": {
    "name": "ipython",
    "version": 3
   },
   "file_extension": ".py",
   "mimetype": "text/x-python",
   "name": "python",
   "nbconvert_exporter": "python",
   "pygments_lexer": "ipython3",
   "version": "3.9.12"
  },
  "toc": {
   "base_numbering": 1,
   "nav_menu": {},
   "number_sections": true,
   "sideBar": true,
   "skip_h1_title": false,
   "title_cell": "Table of Contents",
   "title_sidebar": "Contents",
   "toc_cell": false,
   "toc_position": {},
   "toc_section_display": true,
   "toc_window_display": false
  }
 },
 "nbformat": 4,
 "nbformat_minor": 5
}
