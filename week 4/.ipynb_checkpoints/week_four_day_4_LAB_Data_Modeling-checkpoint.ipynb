{
 "cells": [
  {
   "cell_type": "code",
   "execution_count": 100,
   "id": "bfb3e7b7",
   "metadata": {},
   "outputs": [],
   "source": [
    "import numpy as np\n",
    "import pandas as pd\n",
    "import matplotlib.pyplot as plt\n",
    "%matplotlib inline\n",
    "import seaborn as sns\n",
    "from sklearn.preprocessing import StandardScaler\n",
    "from sklearn.preprocessing import quantile_transform\n",
    "from sklearn.preprocessing import minmax_scale\n",
    "from sklearn.preprocessing import OneHotEncoder  ##. better to use dummy from pandas \n",
    "from sklearn.preprocessing import PowerTransformer\n",
    "from sklearn.preprocessing import QuantileTransformer\n",
    "from scipy.stats import boxcox ## z-transformation // standard scaler \n",
    "\n",
    "from sklearn.tree import DecisionTreeRegressor\n",
    "\n",
    "from sklearn.linear_model import LinearRegression\n",
    "from sklearn.model_selection import train_test_split\n",
    "import statsmodels.api as sm\n",
    "from scipy.stats import boxcox\n",
    "from sklearn.metrics import r2_score\n",
    "from sklearn.metrics import mean_squared_error as mse\n",
    "from sklearn.metrics import mean_absolute_error as mae\n",
    "from sklearn.ensemble import RandomForestRegressor\n",
    "from sklearn.compose import TransformedTargetRegressor\n",
    "pd.options.display.max_rows = 50\n",
    "\n",
    "## Install xlrd package to load Excel files\n",
    "# conda install openpyxl\n",
    "## conda install xlrd"
   ]
  },
  {
   "cell_type": "markdown",
   "id": "dfebc94e",
   "metadata": {},
   "source": [
    "# Objectives"
   ]
  },
  {
   "cell_type": "markdown",
   "id": "dd63abb6",
   "metadata": {},
   "source": [
    "- The customer data is collected from an auto insurance company. \n",
    "- **Target**:\n",
    "    1. [ ] Retain customer \n",
    "    2. [ ] Develop focused customer retention programs \n",
    "    3. [ ] Increase profitable customer response and growth "
   ]
  },
  {
   "cell_type": "markdown",
   "id": "0f436970",
   "metadata": {},
   "source": [
    "# Load data "
   ]
  },
  {
   "cell_type": "code",
   "execution_count": 34,
   "id": "658f5fcb",
   "metadata": {},
   "outputs": [],
   "source": [
    "ca_numerical= pd.read_csv (\"data/ca_numerical_auto_insurance.csv\")\n",
    "ca_categorical= pd.read_csv (\"data/categorical_features_auto_insurance.csv\")"
   ]
  },
  {
   "cell_type": "code",
   "execution_count": 36,
   "id": "12868021",
   "metadata": {},
   "outputs": [],
   "source": [
    "X=pd.concat([ca_numerical,ca_categorical], axis=1)"
   ]
  },
  {
   "cell_type": "code",
   "execution_count": 37,
   "id": "5b0b555e",
   "metadata": {},
   "outputs": [
    {
     "data": {
      "text/html": [
       "<div>\n",
       "<style scoped>\n",
       "    .dataframe tbody tr th:only-of-type {\n",
       "        vertical-align: middle;\n",
       "    }\n",
       "\n",
       "    .dataframe tbody tr th {\n",
       "        vertical-align: top;\n",
       "    }\n",
       "\n",
       "    .dataframe thead th {\n",
       "        text-align: right;\n",
       "    }\n",
       "</style>\n",
       "<table border=\"1\" class=\"dataframe\">\n",
       "  <thead>\n",
       "    <tr style=\"text-align: right;\">\n",
       "      <th></th>\n",
       "      <th>customer_lifetime_value</th>\n",
       "      <th>income</th>\n",
       "      <th>monthly_premium_auto</th>\n",
       "      <th>months_since_last_claim</th>\n",
       "      <th>months_since_policy_inception</th>\n",
       "      <th>number_of_policies</th>\n",
       "      <th>total_claim_amount</th>\n",
       "      <th>renew_offer_type</th>\n",
       "      <th>number_of_open_complaints</th>\n",
       "      <th>region_east</th>\n",
       "      <th>...</th>\n",
       "      <th>vehicle_size_medsize</th>\n",
       "      <th>vehicle_size_small</th>\n",
       "      <th>marital_status_married</th>\n",
       "      <th>marital_status_single</th>\n",
       "      <th>location_code_suburban</th>\n",
       "      <th>location_code_urban</th>\n",
       "      <th>coverage</th>\n",
       "      <th>education</th>\n",
       "      <th>month</th>\n",
       "      <th>policy</th>\n",
       "    </tr>\n",
       "  </thead>\n",
       "  <tbody>\n",
       "    <tr>\n",
       "      <th>0</th>\n",
       "      <td>4809</td>\n",
       "      <td>48029</td>\n",
       "      <td>61</td>\n",
       "      <td>7</td>\n",
       "      <td>52</td>\n",
       "      <td>9</td>\n",
       "      <td>292</td>\n",
       "      <td>3</td>\n",
       "      <td>0</td>\n",
       "      <td>0</td>\n",
       "      <td>...</td>\n",
       "      <td>1</td>\n",
       "      <td>0</td>\n",
       "      <td>1</td>\n",
       "      <td>0</td>\n",
       "      <td>1</td>\n",
       "      <td>0</td>\n",
       "      <td>1</td>\n",
       "      <td>2</td>\n",
       "      <td>2</td>\n",
       "      <td>2</td>\n",
       "    </tr>\n",
       "    <tr>\n",
       "      <th>1</th>\n",
       "      <td>2228</td>\n",
       "      <td>92260</td>\n",
       "      <td>64</td>\n",
       "      <td>3</td>\n",
       "      <td>26</td>\n",
       "      <td>1</td>\n",
       "      <td>744</td>\n",
       "      <td>4</td>\n",
       "      <td>0</td>\n",
       "      <td>0</td>\n",
       "      <td>...</td>\n",
       "      <td>1</td>\n",
       "      <td>0</td>\n",
       "      <td>0</td>\n",
       "      <td>1</td>\n",
       "      <td>1</td>\n",
       "      <td>0</td>\n",
       "      <td>1</td>\n",
       "      <td>2</td>\n",
       "      <td>1</td>\n",
       "      <td>1</td>\n",
       "    </tr>\n",
       "    <tr>\n",
       "      <th>2</th>\n",
       "      <td>14947</td>\n",
       "      <td>22139</td>\n",
       "      <td>100</td>\n",
       "      <td>34</td>\n",
       "      <td>31</td>\n",
       "      <td>2</td>\n",
       "      <td>480</td>\n",
       "      <td>3</td>\n",
       "      <td>0</td>\n",
       "      <td>1</td>\n",
       "      <td>...</td>\n",
       "      <td>1</td>\n",
       "      <td>0</td>\n",
       "      <td>0</td>\n",
       "      <td>1</td>\n",
       "      <td>1</td>\n",
       "      <td>0</td>\n",
       "      <td>1</td>\n",
       "      <td>3</td>\n",
       "      <td>2</td>\n",
       "      <td>1</td>\n",
       "    </tr>\n",
       "    <tr>\n",
       "      <th>3</th>\n",
       "      <td>22332</td>\n",
       "      <td>49078</td>\n",
       "      <td>97</td>\n",
       "      <td>10</td>\n",
       "      <td>3</td>\n",
       "      <td>2</td>\n",
       "      <td>484</td>\n",
       "      <td>2</td>\n",
       "      <td>0</td>\n",
       "      <td>0</td>\n",
       "      <td>...</td>\n",
       "      <td>1</td>\n",
       "      <td>0</td>\n",
       "      <td>0</td>\n",
       "      <td>1</td>\n",
       "      <td>1</td>\n",
       "      <td>0</td>\n",
       "      <td>2</td>\n",
       "      <td>2</td>\n",
       "      <td>1</td>\n",
       "      <td>2</td>\n",
       "    </tr>\n",
       "    <tr>\n",
       "      <th>4</th>\n",
       "      <td>9025</td>\n",
       "      <td>23675</td>\n",
       "      <td>117</td>\n",
       "      <td>33</td>\n",
       "      <td>31</td>\n",
       "      <td>7</td>\n",
       "      <td>707</td>\n",
       "      <td>1</td>\n",
       "      <td>0</td>\n",
       "      <td>0</td>\n",
       "      <td>...</td>\n",
       "      <td>1</td>\n",
       "      <td>0</td>\n",
       "      <td>1</td>\n",
       "      <td>0</td>\n",
       "      <td>1</td>\n",
       "      <td>0</td>\n",
       "      <td>3</td>\n",
       "      <td>3</td>\n",
       "      <td>1</td>\n",
       "      <td>1</td>\n",
       "    </tr>\n",
       "    <tr>\n",
       "      <th>...</th>\n",
       "      <td>...</td>\n",
       "      <td>...</td>\n",
       "      <td>...</td>\n",
       "      <td>...</td>\n",
       "      <td>...</td>\n",
       "      <td>...</td>\n",
       "      <td>...</td>\n",
       "      <td>...</td>\n",
       "      <td>...</td>\n",
       "      <td>...</td>\n",
       "      <td>...</td>\n",
       "      <td>...</td>\n",
       "      <td>...</td>\n",
       "      <td>...</td>\n",
       "      <td>...</td>\n",
       "      <td>...</td>\n",
       "      <td>...</td>\n",
       "      <td>...</td>\n",
       "      <td>...</td>\n",
       "      <td>...</td>\n",
       "      <td>...</td>\n",
       "    </tr>\n",
       "    <tr>\n",
       "      <th>10684</th>\n",
       "      <td>15563</td>\n",
       "      <td>61541</td>\n",
       "      <td>253</td>\n",
       "      <td>12</td>\n",
       "      <td>40</td>\n",
       "      <td>7</td>\n",
       "      <td>1214</td>\n",
       "      <td>3</td>\n",
       "      <td>0</td>\n",
       "      <td>0</td>\n",
       "      <td>...</td>\n",
       "      <td>1</td>\n",
       "      <td>0</td>\n",
       "      <td>1</td>\n",
       "      <td>0</td>\n",
       "      <td>1</td>\n",
       "      <td>0</td>\n",
       "      <td>3</td>\n",
       "      <td>3</td>\n",
       "      <td>1</td>\n",
       "      <td>1</td>\n",
       "    </tr>\n",
       "    <tr>\n",
       "      <th>10685</th>\n",
       "      <td>5259</td>\n",
       "      <td>61146</td>\n",
       "      <td>65</td>\n",
       "      <td>7</td>\n",
       "      <td>68</td>\n",
       "      <td>6</td>\n",
       "      <td>273</td>\n",
       "      <td>2</td>\n",
       "      <td>0</td>\n",
       "      <td>0</td>\n",
       "      <td>...</td>\n",
       "      <td>1</td>\n",
       "      <td>0</td>\n",
       "      <td>1</td>\n",
       "      <td>0</td>\n",
       "      <td>0</td>\n",
       "      <td>1</td>\n",
       "      <td>1</td>\n",
       "      <td>2</td>\n",
       "      <td>1</td>\n",
       "      <td>1</td>\n",
       "    </tr>\n",
       "    <tr>\n",
       "      <th>10686</th>\n",
       "      <td>23893</td>\n",
       "      <td>39837</td>\n",
       "      <td>201</td>\n",
       "      <td>11</td>\n",
       "      <td>63</td>\n",
       "      <td>2</td>\n",
       "      <td>381</td>\n",
       "      <td>1</td>\n",
       "      <td>0</td>\n",
       "      <td>0</td>\n",
       "      <td>...</td>\n",
       "      <td>1</td>\n",
       "      <td>0</td>\n",
       "      <td>1</td>\n",
       "      <td>0</td>\n",
       "      <td>0</td>\n",
       "      <td>0</td>\n",
       "      <td>2</td>\n",
       "      <td>3</td>\n",
       "      <td>2</td>\n",
       "      <td>2</td>\n",
       "    </tr>\n",
       "    <tr>\n",
       "      <th>10687</th>\n",
       "      <td>11971</td>\n",
       "      <td>64195</td>\n",
       "      <td>158</td>\n",
       "      <td>0</td>\n",
       "      <td>27</td>\n",
       "      <td>6</td>\n",
       "      <td>618</td>\n",
       "      <td>1</td>\n",
       "      <td>4</td>\n",
       "      <td>0</td>\n",
       "      <td>...</td>\n",
       "      <td>1</td>\n",
       "      <td>0</td>\n",
       "      <td>0</td>\n",
       "      <td>0</td>\n",
       "      <td>0</td>\n",
       "      <td>1</td>\n",
       "      <td>3</td>\n",
       "      <td>2</td>\n",
       "      <td>2</td>\n",
       "      <td>1</td>\n",
       "    </tr>\n",
       "    <tr>\n",
       "      <th>10688</th>\n",
       "      <td>6857</td>\n",
       "      <td>68942</td>\n",
       "      <td>101</td>\n",
       "      <td>31</td>\n",
       "      <td>1</td>\n",
       "      <td>3</td>\n",
       "      <td>1021</td>\n",
       "      <td>4</td>\n",
       "      <td>0</td>\n",
       "      <td>0</td>\n",
       "      <td>...</td>\n",
       "      <td>1</td>\n",
       "      <td>0</td>\n",
       "      <td>0</td>\n",
       "      <td>1</td>\n",
       "      <td>1</td>\n",
       "      <td>0</td>\n",
       "      <td>1</td>\n",
       "      <td>3</td>\n",
       "      <td>1</td>\n",
       "      <td>1</td>\n",
       "    </tr>\n",
       "  </tbody>\n",
       "</table>\n",
       "<p>10689 rows × 35 columns</p>\n",
       "</div>"
      ],
      "text/plain": [
       "       customer_lifetime_value  income  monthly_premium_auto  \\\n",
       "0                         4809   48029                    61   \n",
       "1                         2228   92260                    64   \n",
       "2                        14947   22139                   100   \n",
       "3                        22332   49078                    97   \n",
       "4                         9025   23675                   117   \n",
       "...                        ...     ...                   ...   \n",
       "10684                    15563   61541                   253   \n",
       "10685                     5259   61146                    65   \n",
       "10686                    23893   39837                   201   \n",
       "10687                    11971   64195                   158   \n",
       "10688                     6857   68942                   101   \n",
       "\n",
       "       months_since_last_claim  months_since_policy_inception  \\\n",
       "0                            7                             52   \n",
       "1                            3                             26   \n",
       "2                           34                             31   \n",
       "3                           10                              3   \n",
       "4                           33                             31   \n",
       "...                        ...                            ...   \n",
       "10684                       12                             40   \n",
       "10685                        7                             68   \n",
       "10686                       11                             63   \n",
       "10687                        0                             27   \n",
       "10688                       31                              1   \n",
       "\n",
       "       number_of_policies  total_claim_amount  renew_offer_type  \\\n",
       "0                       9                 292                 3   \n",
       "1                       1                 744                 4   \n",
       "2                       2                 480                 3   \n",
       "3                       2                 484                 2   \n",
       "4                       7                 707                 1   \n",
       "...                   ...                 ...               ...   \n",
       "10684                   7                1214                 3   \n",
       "10685                   6                 273                 2   \n",
       "10686                   2                 381                 1   \n",
       "10687                   6                 618                 1   \n",
       "10688                   3                1021                 4   \n",
       "\n",
       "       number_of_open_complaints  region_east  ...  vehicle_size_medsize  \\\n",
       "0                              0            0  ...                     1   \n",
       "1                              0            0  ...                     1   \n",
       "2                              0            1  ...                     1   \n",
       "3                              0            0  ...                     1   \n",
       "4                              0            0  ...                     1   \n",
       "...                          ...          ...  ...                   ...   \n",
       "10684                          0            0  ...                     1   \n",
       "10685                          0            0  ...                     1   \n",
       "10686                          0            0  ...                     1   \n",
       "10687                          4            0  ...                     1   \n",
       "10688                          0            0  ...                     1   \n",
       "\n",
       "       vehicle_size_small  marital_status_married  marital_status_single  \\\n",
       "0                       0                       1                      0   \n",
       "1                       0                       0                      1   \n",
       "2                       0                       0                      1   \n",
       "3                       0                       0                      1   \n",
       "4                       0                       1                      0   \n",
       "...                   ...                     ...                    ...   \n",
       "10684                   0                       1                      0   \n",
       "10685                   0                       1                      0   \n",
       "10686                   0                       1                      0   \n",
       "10687                   0                       0                      0   \n",
       "10688                   0                       0                      1   \n",
       "\n",
       "       location_code_suburban  location_code_urban  coverage  education  \\\n",
       "0                           1                    0         1          2   \n",
       "1                           1                    0         1          2   \n",
       "2                           1                    0         1          3   \n",
       "3                           1                    0         2          2   \n",
       "4                           1                    0         3          3   \n",
       "...                       ...                  ...       ...        ...   \n",
       "10684                       1                    0         3          3   \n",
       "10685                       0                    1         1          2   \n",
       "10686                       0                    0         2          3   \n",
       "10687                       0                    1         3          2   \n",
       "10688                       1                    0         1          3   \n",
       "\n",
       "       month  policy  \n",
       "0          2       2  \n",
       "1          1       1  \n",
       "2          2       1  \n",
       "3          1       2  \n",
       "4          1       1  \n",
       "...      ...     ...  \n",
       "10684      1       1  \n",
       "10685      1       1  \n",
       "10686      2       2  \n",
       "10687      2       1  \n",
       "10688      1       1  \n",
       "\n",
       "[10689 rows x 35 columns]"
      ]
     },
     "execution_count": 37,
     "metadata": {},
     "output_type": "execute_result"
    }
   ],
   "source": [
    "X"
   ]
  },
  {
   "cell_type": "code",
   "execution_count": 88,
   "id": "c6a3e8dc",
   "metadata": {},
   "outputs": [
    {
     "name": "stdout",
     "output_type": "stream",
     "text": [
      "<class 'pandas.core.frame.DataFrame'>\n",
      "RangeIndex: 10689 entries, 0 to 10688\n",
      "Data columns (total 35 columns):\n",
      " #   Column                           Non-Null Count  Dtype\n",
      "---  ------                           --------------  -----\n",
      " 0   customer_lifetime_value          10689 non-null  int64\n",
      " 1   income                           10689 non-null  int64\n",
      " 2   monthly_premium_auto             10689 non-null  int64\n",
      " 3   months_since_last_claim          10689 non-null  int64\n",
      " 4   months_since_policy_inception    10689 non-null  int64\n",
      " 5   number_of_policies               10689 non-null  int64\n",
      " 6   total_claim_amount               10689 non-null  int64\n",
      " 7   renew_offer_type                 10689 non-null  int64\n",
      " 8   number_of_open_complaints        10689 non-null  int64\n",
      " 9   region_east                      10689 non-null  int64\n",
      " 10  region_north west                10689 non-null  int64\n",
      " 11  region_west region               10689 non-null  int64\n",
      " 12  response_yes                     10689 non-null  int64\n",
      " 13  gender_m                         10689 non-null  int64\n",
      " 14  policy_type_personal auto        10689 non-null  int64\n",
      " 15  policy_type_special auto         10689 non-null  int64\n",
      " 16  employment_status_employed       10689 non-null  int64\n",
      " 17  employment_status_medical leave  10689 non-null  int64\n",
      " 18  employment_status_retired        10689 non-null  int64\n",
      " 19  employment_status_unemployed     10689 non-null  int64\n",
      " 20  vehicle_class_luxury car         10689 non-null  int64\n",
      " 21  vehicle_class_luxury suv         10689 non-null  int64\n",
      " 22  vehicle_class_sports car         10689 non-null  int64\n",
      " 23  vehicle_class_suv                10689 non-null  int64\n",
      " 24  vehicle_class_two-door car       10689 non-null  int64\n",
      " 25  vehicle_size_medsize             10689 non-null  int64\n",
      " 26  vehicle_size_small               10689 non-null  int64\n",
      " 27  marital_status_married           10689 non-null  int64\n",
      " 28  marital_status_single            10689 non-null  int64\n",
      " 29  location_code_suburban           10689 non-null  int64\n",
      " 30  location_code_urban              10689 non-null  int64\n",
      " 31  coverage                         10689 non-null  int64\n",
      " 32  education                        10689 non-null  int64\n",
      " 33  month                            10689 non-null  int64\n",
      " 34  policy                           10689 non-null  int64\n",
      "dtypes: int64(35)\n",
      "memory usage: 2.9 MB\n"
     ]
    }
   ],
   "source": [
    "X.info()"
   ]
  },
  {
   "cell_type": "markdown",
   "id": "0a326afc",
   "metadata": {},
   "source": [
    "# X-Y split"
   ]
  },
  {
   "cell_type": "code",
   "execution_count": 39,
   "id": "e564366e",
   "metadata": {},
   "outputs": [],
   "source": [
    "x= X.drop(\"total_claim_amount\", axis=1)\n",
    "y= X.total_claim_amount"
   ]
  },
  {
   "cell_type": "code",
   "execution_count": 43,
   "id": "0c902d2f",
   "metadata": {},
   "outputs": [
    {
     "data": {
      "text/html": [
       "<div>\n",
       "<style scoped>\n",
       "    .dataframe tbody tr th:only-of-type {\n",
       "        vertical-align: middle;\n",
       "    }\n",
       "\n",
       "    .dataframe tbody tr th {\n",
       "        vertical-align: top;\n",
       "    }\n",
       "\n",
       "    .dataframe thead th {\n",
       "        text-align: right;\n",
       "    }\n",
       "</style>\n",
       "<table border=\"1\" class=\"dataframe\">\n",
       "  <thead>\n",
       "    <tr style=\"text-align: right;\">\n",
       "      <th></th>\n",
       "      <th>customer_lifetime_value</th>\n",
       "      <th>income</th>\n",
       "      <th>monthly_premium_auto</th>\n",
       "      <th>months_since_last_claim</th>\n",
       "      <th>months_since_policy_inception</th>\n",
       "      <th>number_of_policies</th>\n",
       "      <th>renew_offer_type</th>\n",
       "      <th>number_of_open_complaints</th>\n",
       "      <th>region_east</th>\n",
       "      <th>region_north west</th>\n",
       "      <th>...</th>\n",
       "      <th>vehicle_size_medsize</th>\n",
       "      <th>vehicle_size_small</th>\n",
       "      <th>marital_status_married</th>\n",
       "      <th>marital_status_single</th>\n",
       "      <th>location_code_suburban</th>\n",
       "      <th>location_code_urban</th>\n",
       "      <th>coverage</th>\n",
       "      <th>education</th>\n",
       "      <th>month</th>\n",
       "      <th>policy</th>\n",
       "    </tr>\n",
       "  </thead>\n",
       "  <tbody>\n",
       "    <tr>\n",
       "      <th>0</th>\n",
       "      <td>4809</td>\n",
       "      <td>48029</td>\n",
       "      <td>61</td>\n",
       "      <td>7</td>\n",
       "      <td>52</td>\n",
       "      <td>9</td>\n",
       "      <td>3</td>\n",
       "      <td>0</td>\n",
       "      <td>0</td>\n",
       "      <td>0</td>\n",
       "      <td>...</td>\n",
       "      <td>1</td>\n",
       "      <td>0</td>\n",
       "      <td>1</td>\n",
       "      <td>0</td>\n",
       "      <td>1</td>\n",
       "      <td>0</td>\n",
       "      <td>1</td>\n",
       "      <td>2</td>\n",
       "      <td>2</td>\n",
       "      <td>2</td>\n",
       "    </tr>\n",
       "    <tr>\n",
       "      <th>1</th>\n",
       "      <td>2228</td>\n",
       "      <td>92260</td>\n",
       "      <td>64</td>\n",
       "      <td>3</td>\n",
       "      <td>26</td>\n",
       "      <td>1</td>\n",
       "      <td>4</td>\n",
       "      <td>0</td>\n",
       "      <td>0</td>\n",
       "      <td>0</td>\n",
       "      <td>...</td>\n",
       "      <td>1</td>\n",
       "      <td>0</td>\n",
       "      <td>0</td>\n",
       "      <td>1</td>\n",
       "      <td>1</td>\n",
       "      <td>0</td>\n",
       "      <td>1</td>\n",
       "      <td>2</td>\n",
       "      <td>1</td>\n",
       "      <td>1</td>\n",
       "    </tr>\n",
       "    <tr>\n",
       "      <th>2</th>\n",
       "      <td>14947</td>\n",
       "      <td>22139</td>\n",
       "      <td>100</td>\n",
       "      <td>34</td>\n",
       "      <td>31</td>\n",
       "      <td>2</td>\n",
       "      <td>3</td>\n",
       "      <td>0</td>\n",
       "      <td>1</td>\n",
       "      <td>0</td>\n",
       "      <td>...</td>\n",
       "      <td>1</td>\n",
       "      <td>0</td>\n",
       "      <td>0</td>\n",
       "      <td>1</td>\n",
       "      <td>1</td>\n",
       "      <td>0</td>\n",
       "      <td>1</td>\n",
       "      <td>3</td>\n",
       "      <td>2</td>\n",
       "      <td>1</td>\n",
       "    </tr>\n",
       "    <tr>\n",
       "      <th>3</th>\n",
       "      <td>22332</td>\n",
       "      <td>49078</td>\n",
       "      <td>97</td>\n",
       "      <td>10</td>\n",
       "      <td>3</td>\n",
       "      <td>2</td>\n",
       "      <td>2</td>\n",
       "      <td>0</td>\n",
       "      <td>0</td>\n",
       "      <td>1</td>\n",
       "      <td>...</td>\n",
       "      <td>1</td>\n",
       "      <td>0</td>\n",
       "      <td>0</td>\n",
       "      <td>1</td>\n",
       "      <td>1</td>\n",
       "      <td>0</td>\n",
       "      <td>2</td>\n",
       "      <td>2</td>\n",
       "      <td>1</td>\n",
       "      <td>2</td>\n",
       "    </tr>\n",
       "    <tr>\n",
       "      <th>4</th>\n",
       "      <td>9025</td>\n",
       "      <td>23675</td>\n",
       "      <td>117</td>\n",
       "      <td>33</td>\n",
       "      <td>31</td>\n",
       "      <td>7</td>\n",
       "      <td>1</td>\n",
       "      <td>0</td>\n",
       "      <td>0</td>\n",
       "      <td>1</td>\n",
       "      <td>...</td>\n",
       "      <td>1</td>\n",
       "      <td>0</td>\n",
       "      <td>1</td>\n",
       "      <td>0</td>\n",
       "      <td>1</td>\n",
       "      <td>0</td>\n",
       "      <td>3</td>\n",
       "      <td>3</td>\n",
       "      <td>1</td>\n",
       "      <td>1</td>\n",
       "    </tr>\n",
       "    <tr>\n",
       "      <th>...</th>\n",
       "      <td>...</td>\n",
       "      <td>...</td>\n",
       "      <td>...</td>\n",
       "      <td>...</td>\n",
       "      <td>...</td>\n",
       "      <td>...</td>\n",
       "      <td>...</td>\n",
       "      <td>...</td>\n",
       "      <td>...</td>\n",
       "      <td>...</td>\n",
       "      <td>...</td>\n",
       "      <td>...</td>\n",
       "      <td>...</td>\n",
       "      <td>...</td>\n",
       "      <td>...</td>\n",
       "      <td>...</td>\n",
       "      <td>...</td>\n",
       "      <td>...</td>\n",
       "      <td>...</td>\n",
       "      <td>...</td>\n",
       "      <td>...</td>\n",
       "    </tr>\n",
       "    <tr>\n",
       "      <th>10684</th>\n",
       "      <td>15563</td>\n",
       "      <td>61541</td>\n",
       "      <td>253</td>\n",
       "      <td>12</td>\n",
       "      <td>40</td>\n",
       "      <td>7</td>\n",
       "      <td>3</td>\n",
       "      <td>0</td>\n",
       "      <td>0</td>\n",
       "      <td>0</td>\n",
       "      <td>...</td>\n",
       "      <td>1</td>\n",
       "      <td>0</td>\n",
       "      <td>1</td>\n",
       "      <td>0</td>\n",
       "      <td>1</td>\n",
       "      <td>0</td>\n",
       "      <td>3</td>\n",
       "      <td>3</td>\n",
       "      <td>1</td>\n",
       "      <td>1</td>\n",
       "    </tr>\n",
       "    <tr>\n",
       "      <th>10685</th>\n",
       "      <td>5259</td>\n",
       "      <td>61146</td>\n",
       "      <td>65</td>\n",
       "      <td>7</td>\n",
       "      <td>68</td>\n",
       "      <td>6</td>\n",
       "      <td>2</td>\n",
       "      <td>0</td>\n",
       "      <td>0</td>\n",
       "      <td>1</td>\n",
       "      <td>...</td>\n",
       "      <td>1</td>\n",
       "      <td>0</td>\n",
       "      <td>1</td>\n",
       "      <td>0</td>\n",
       "      <td>0</td>\n",
       "      <td>1</td>\n",
       "      <td>1</td>\n",
       "      <td>2</td>\n",
       "      <td>1</td>\n",
       "      <td>1</td>\n",
       "    </tr>\n",
       "    <tr>\n",
       "      <th>10686</th>\n",
       "      <td>23893</td>\n",
       "      <td>39837</td>\n",
       "      <td>201</td>\n",
       "      <td>11</td>\n",
       "      <td>63</td>\n",
       "      <td>2</td>\n",
       "      <td>1</td>\n",
       "      <td>0</td>\n",
       "      <td>0</td>\n",
       "      <td>0</td>\n",
       "      <td>...</td>\n",
       "      <td>1</td>\n",
       "      <td>0</td>\n",
       "      <td>1</td>\n",
       "      <td>0</td>\n",
       "      <td>0</td>\n",
       "      <td>0</td>\n",
       "      <td>2</td>\n",
       "      <td>3</td>\n",
       "      <td>2</td>\n",
       "      <td>2</td>\n",
       "    </tr>\n",
       "    <tr>\n",
       "      <th>10687</th>\n",
       "      <td>11971</td>\n",
       "      <td>64195</td>\n",
       "      <td>158</td>\n",
       "      <td>0</td>\n",
       "      <td>27</td>\n",
       "      <td>6</td>\n",
       "      <td>1</td>\n",
       "      <td>4</td>\n",
       "      <td>0</td>\n",
       "      <td>0</td>\n",
       "      <td>...</td>\n",
       "      <td>1</td>\n",
       "      <td>0</td>\n",
       "      <td>0</td>\n",
       "      <td>0</td>\n",
       "      <td>0</td>\n",
       "      <td>1</td>\n",
       "      <td>3</td>\n",
       "      <td>2</td>\n",
       "      <td>2</td>\n",
       "      <td>1</td>\n",
       "    </tr>\n",
       "    <tr>\n",
       "      <th>10688</th>\n",
       "      <td>6857</td>\n",
       "      <td>68942</td>\n",
       "      <td>101</td>\n",
       "      <td>31</td>\n",
       "      <td>1</td>\n",
       "      <td>3</td>\n",
       "      <td>4</td>\n",
       "      <td>0</td>\n",
       "      <td>0</td>\n",
       "      <td>0</td>\n",
       "      <td>...</td>\n",
       "      <td>1</td>\n",
       "      <td>0</td>\n",
       "      <td>0</td>\n",
       "      <td>1</td>\n",
       "      <td>1</td>\n",
       "      <td>0</td>\n",
       "      <td>1</td>\n",
       "      <td>3</td>\n",
       "      <td>1</td>\n",
       "      <td>1</td>\n",
       "    </tr>\n",
       "  </tbody>\n",
       "</table>\n",
       "<p>10689 rows × 34 columns</p>\n",
       "</div>"
      ],
      "text/plain": [
       "       customer_lifetime_value  income  monthly_premium_auto  \\\n",
       "0                         4809   48029                    61   \n",
       "1                         2228   92260                    64   \n",
       "2                        14947   22139                   100   \n",
       "3                        22332   49078                    97   \n",
       "4                         9025   23675                   117   \n",
       "...                        ...     ...                   ...   \n",
       "10684                    15563   61541                   253   \n",
       "10685                     5259   61146                    65   \n",
       "10686                    23893   39837                   201   \n",
       "10687                    11971   64195                   158   \n",
       "10688                     6857   68942                   101   \n",
       "\n",
       "       months_since_last_claim  months_since_policy_inception  \\\n",
       "0                            7                             52   \n",
       "1                            3                             26   \n",
       "2                           34                             31   \n",
       "3                           10                              3   \n",
       "4                           33                             31   \n",
       "...                        ...                            ...   \n",
       "10684                       12                             40   \n",
       "10685                        7                             68   \n",
       "10686                       11                             63   \n",
       "10687                        0                             27   \n",
       "10688                       31                              1   \n",
       "\n",
       "       number_of_policies  renew_offer_type  number_of_open_complaints  \\\n",
       "0                       9                 3                          0   \n",
       "1                       1                 4                          0   \n",
       "2                       2                 3                          0   \n",
       "3                       2                 2                          0   \n",
       "4                       7                 1                          0   \n",
       "...                   ...               ...                        ...   \n",
       "10684                   7                 3                          0   \n",
       "10685                   6                 2                          0   \n",
       "10686                   2                 1                          0   \n",
       "10687                   6                 1                          4   \n",
       "10688                   3                 4                          0   \n",
       "\n",
       "       region_east  region_north west  ...  vehicle_size_medsize  \\\n",
       "0                0                  0  ...                     1   \n",
       "1                0                  0  ...                     1   \n",
       "2                1                  0  ...                     1   \n",
       "3                0                  1  ...                     1   \n",
       "4                0                  1  ...                     1   \n",
       "...            ...                ...  ...                   ...   \n",
       "10684            0                  0  ...                     1   \n",
       "10685            0                  1  ...                     1   \n",
       "10686            0                  0  ...                     1   \n",
       "10687            0                  0  ...                     1   \n",
       "10688            0                  0  ...                     1   \n",
       "\n",
       "       vehicle_size_small  marital_status_married  marital_status_single  \\\n",
       "0                       0                       1                      0   \n",
       "1                       0                       0                      1   \n",
       "2                       0                       0                      1   \n",
       "3                       0                       0                      1   \n",
       "4                       0                       1                      0   \n",
       "...                   ...                     ...                    ...   \n",
       "10684                   0                       1                      0   \n",
       "10685                   0                       1                      0   \n",
       "10686                   0                       1                      0   \n",
       "10687                   0                       0                      0   \n",
       "10688                   0                       0                      1   \n",
       "\n",
       "       location_code_suburban  location_code_urban  coverage  education  \\\n",
       "0                           1                    0         1          2   \n",
       "1                           1                    0         1          2   \n",
       "2                           1                    0         1          3   \n",
       "3                           1                    0         2          2   \n",
       "4                           1                    0         3          3   \n",
       "...                       ...                  ...       ...        ...   \n",
       "10684                       1                    0         3          3   \n",
       "10685                       0                    1         1          2   \n",
       "10686                       0                    0         2          3   \n",
       "10687                       0                    1         3          2   \n",
       "10688                       1                    0         1          3   \n",
       "\n",
       "       month  policy  \n",
       "0          2       2  \n",
       "1          1       1  \n",
       "2          2       1  \n",
       "3          1       2  \n",
       "4          1       1  \n",
       "...      ...     ...  \n",
       "10684      1       1  \n",
       "10685      1       1  \n",
       "10686      2       2  \n",
       "10687      2       1  \n",
       "10688      1       1  \n",
       "\n",
       "[10689 rows x 34 columns]"
      ]
     },
     "execution_count": 43,
     "metadata": {},
     "output_type": "execute_result"
    }
   ],
   "source": [
    "x"
   ]
  },
  {
   "cell_type": "code",
   "execution_count": 44,
   "id": "71da3bc8",
   "metadata": {},
   "outputs": [
    {
     "data": {
      "text/plain": [
       "array([[<AxesSubplot:title={'center':'customer_lifetime_value'}>,\n",
       "        <AxesSubplot:title={'center':'income'}>,\n",
       "        <AxesSubplot:title={'center':'monthly_premium_auto'}>,\n",
       "        <AxesSubplot:title={'center':'months_since_last_claim'}>,\n",
       "        <AxesSubplot:title={'center':'months_since_policy_inception'}>,\n",
       "        <AxesSubplot:title={'center':'number_of_policies'}>],\n",
       "       [<AxesSubplot:title={'center':'renew_offer_type'}>,\n",
       "        <AxesSubplot:title={'center':'number_of_open_complaints'}>,\n",
       "        <AxesSubplot:title={'center':'region_east'}>,\n",
       "        <AxesSubplot:title={'center':'region_north west'}>,\n",
       "        <AxesSubplot:title={'center':'region_west region'}>,\n",
       "        <AxesSubplot:title={'center':'response_yes'}>],\n",
       "       [<AxesSubplot:title={'center':'gender_m'}>,\n",
       "        <AxesSubplot:title={'center':'policy_type_personal auto'}>,\n",
       "        <AxesSubplot:title={'center':'policy_type_special auto'}>,\n",
       "        <AxesSubplot:title={'center':'employment_status_employed'}>,\n",
       "        <AxesSubplot:title={'center':'employment_status_medical leave'}>,\n",
       "        <AxesSubplot:title={'center':'employment_status_retired'}>],\n",
       "       [<AxesSubplot:title={'center':'employment_status_unemployed'}>,\n",
       "        <AxesSubplot:title={'center':'vehicle_class_luxury car'}>,\n",
       "        <AxesSubplot:title={'center':'vehicle_class_luxury suv'}>,\n",
       "        <AxesSubplot:title={'center':'vehicle_class_sports car'}>,\n",
       "        <AxesSubplot:title={'center':'vehicle_class_suv'}>,\n",
       "        <AxesSubplot:title={'center':'vehicle_class_two-door car'}>],\n",
       "       [<AxesSubplot:title={'center':'vehicle_size_medsize'}>,\n",
       "        <AxesSubplot:title={'center':'vehicle_size_small'}>,\n",
       "        <AxesSubplot:title={'center':'marital_status_married'}>,\n",
       "        <AxesSubplot:title={'center':'marital_status_single'}>,\n",
       "        <AxesSubplot:title={'center':'location_code_suburban'}>,\n",
       "        <AxesSubplot:title={'center':'location_code_urban'}>],\n",
       "       [<AxesSubplot:title={'center':'coverage'}>,\n",
       "        <AxesSubplot:title={'center':'education'}>,\n",
       "        <AxesSubplot:title={'center':'month'}>,\n",
       "        <AxesSubplot:title={'center':'policy'}>, <AxesSubplot:>,\n",
       "        <AxesSubplot:>]], dtype=object)"
      ]
     },
     "execution_count": 44,
     "metadata": {},
     "output_type": "execute_result"
    },
    {
     "data": {
      "image/png": "[encoded data removed]",
      "text/plain": [
       "<Figure size 1440x1440 with 36 Axes>"
      ]
     },
     "metadata": {
      "needs_background": "light"
     },
     "output_type": "display_data"
    }
   ],
   "source": [
    "x.hist(figsize=(20,20))"
   ]
  },
  {
   "cell_type": "markdown",
   "id": "4e81d44f",
   "metadata": {},
   "source": [
    "# Train-test split\n",
    "\n",
    "\n",
    "- test_size = 0.3 \n",
    "    - is the percentage of data from the ca_numerical data frame we wish to use as test data for validating the model  \n",
    "\n",
    "__Remember__ its supervised ML "
   ]
  },
  {
   "cell_type": "code",
   "execution_count": 45,
   "id": "e29de903",
   "metadata": {},
   "outputs": [],
   "source": [
    "x_train, x_test, y_train, y_test=train_test_split(x, y, test_size=.30,random_state=123)"
   ]
  },
  {
   "cell_type": "code",
   "execution_count": 46,
   "id": "b2bad245",
   "metadata": {},
   "outputs": [],
   "source": [
    "std_scaler=StandardScaler().fit(x_train)   ##. finding the parameters ( mean, variance from the training set )\n",
    "\n",
    "x_train_scaled=std_scaler.transform(x_train)"
   ]
  },
  {
   "cell_type": "code",
   "execution_count": 47,
   "id": "787deba0",
   "metadata": {},
   "outputs": [
    {
     "data": {
      "text/plain": [
       "(7482, 34)"
      ]
     },
     "execution_count": 47,
     "metadata": {},
     "output_type": "execute_result"
    }
   ],
   "source": [
    "x_train.shape"
   ]
  },
  {
   "cell_type": "markdown",
   "id": "8f0437e7",
   "metadata": {},
   "source": [
    "# Standardize"
   ]
  },
  {
   "cell_type": "code",
   "execution_count": 48,
   "id": "65a31a14",
   "metadata": {},
   "outputs": [],
   "source": [
    "x_test_scaled=std_scaler.transform(x_test) # Scale back the data to the original representation.\n"
   ]
  },
  {
   "cell_type": "markdown",
   "id": "b0f925f2",
   "metadata": {},
   "source": [
    "<mark>Standardize features by removing the mean and scaling to unit variance. </mark>\n",
    "[Here](https://scikit-learn.org/stable/modules/generated/sklearn.preprocessing.StandardScaler.html)"
   ]
  },
  {
   "cell_type": "code",
   "execution_count": 49,
   "id": "b0976f49",
   "metadata": {},
   "outputs": [
    {
     "name": "stdout",
     "output_type": "stream",
     "text": [
      "[[-0.11021627 -1.27291744 -0.67143823 ... -0.25803541 -0.94080264\n",
      "  -0.55120682]\n",
      " [-0.42794064  0.74729478 -0.72925469 ...  0.67463171 -0.94080264\n",
      "  -0.55120682]\n",
      " [-0.5223013   0.26592193  0.48489091 ... -1.19070252 -0.94080264\n",
      "  -0.55120682]\n",
      " ...\n",
      " [-0.81132612 -1.17224873 -0.90270406 ...  0.67463171  1.06292219\n",
      "  -0.55120682]\n",
      " [ 2.25575772  0.98537142 -0.78707115 ...  0.67463171 -0.94080264\n",
      "   3.15421046]\n",
      " [ 1.18923585  0.68583346 -0.55580532 ... -0.25803541 -0.94080264\n",
      "  -0.55120682]]\n",
      "--------\n",
      "[[-0.40967729  1.58428551 -0.61362178 ... -0.25803541  1.06292219\n",
      "  -0.55120682]\n",
      " [-0.7597249  -0.93947257 -0.64253    ... -0.25803541 -0.94080264\n",
      "  -0.55120682]\n",
      " [ 0.57248529 -1.23371005 -0.90270406 ...  1.60729882 -0.94080264\n",
      "  -0.55120682]\n",
      " ...\n",
      " [-0.79857077 -1.05867274 -0.58471355 ... -0.25803541 -0.94080264\n",
      "   1.30150182]\n",
      " [-0.42547654 -0.97370317 -0.81597938 ... -0.25803541 -0.94080264\n",
      "  -0.55120682]\n",
      " [-0.49881985 -0.95695203  0.71615674 ... -0.25803541  1.06292219\n",
      "  -0.55120682]]\n"
     ]
    }
   ],
   "source": [
    "print(x_train_scaled) # 70% data from ca_numerical we use to create the model. it trains with it.\n",
    "print(\"--------\")\n",
    "print(x_test_scaled) # 30%  data from ca_numerical  we use to test the created model with"
   ]
  },
  {
   "cell_type": "markdown",
   "id": "e1ba9041",
   "metadata": {},
   "source": [
    "# Modeling using Scikit Learn\n",
    " \n",
    " ## Fitting\n",
    " - <mark>y= a (alpha) + bx (beta)</mark>\n",
    "- we have 6 independent/Input features therefore the model should give us 6 betas back "
   ]
  },
  {
   "cell_type": "code",
   "execution_count": 50,
   "id": "c523d0c6",
   "metadata": {},
   "outputs": [
    {
     "data": {
      "text/plain": [
       "LinearRegression()"
      ]
     },
     "execution_count": 50,
     "metadata": {},
     "output_type": "execute_result"
    }
   ],
   "source": [
    "model= LinearRegression()#model\n",
    "model.fit(x_train_scaled, y_train) #model train"
   ]
  },
  {
   "cell_type": "markdown",
   "id": "d1615352",
   "metadata": {},
   "source": [
    "<mark>giving back the (b1,b2,b3,b4,b5,b6.. b34)</mark>\n"
   ]
  },
  {
   "cell_type": "code",
   "execution_count": 52,
   "id": "4eff1ef1",
   "metadata": {},
   "outputs": [
    {
     "data": {
      "text/plain": [
       "array([-2.63534242e-01, -4.98677928e+00,  1.79132645e+02,  4.42796615e+00,\n",
       "        1.55162509e-01, -1.29058371e+00,  2.95495555e+00,  1.23895377e+00,\n",
       "        2.20793457e+00,  1.19445492e-01,  2.13813260e+00, -8.19594141e+00,\n",
       "        7.97777410e+00, -8.46558820e+13,  3.85208021e+13, -1.56125400e+00,\n",
       "        4.14250801e+00,  4.92014919e-02,  3.84929513e+01,  4.97377256e+00,\n",
       "       -1.03105768e+00, -4.68614049e+00, -6.13281067e+00,  1.90183024e-01,\n",
       "       -3.30593174e+00,  3.17188953e-01, -2.41459837e-01,  3.07828759e+01,\n",
       "        1.84142151e+02,  8.48132032e+01, -5.67481766e+00, -4.48933215e+00,\n",
       "        7.85662328e-01, -1.04652559e+14])"
      ]
     },
     "execution_count": 52,
     "metadata": {},
     "output_type": "execute_result"
    }
   ],
   "source": [
    "model.coef_"
   ]
  },
  {
   "cell_type": "markdown",
   "id": "b425bd80",
   "metadata": {},
   "source": [
    "<mark>giving back the alpha </mark>\n",
    "\n",
    "- a = 433.07858313260255"
   ]
  },
  {
   "cell_type": "code",
   "execution_count": 53,
   "id": "387a1583",
   "metadata": {},
   "outputs": [
    {
     "data": {
      "text/plain": [
       "433.07858313260255"
      ]
     },
     "execution_count": 53,
     "metadata": {},
     "output_type": "execute_result"
    }
   ],
   "source": [
    "model.intercept_"
   ]
  },
  {
   "cell_type": "code",
   "execution_count": 55,
   "id": "505b8519",
   "metadata": {},
   "outputs": [
    {
     "name": "stdout",
     "output_type": "stream",
     "text": [
      "<class 'pandas.core.frame.DataFrame'>\n",
      "RangeIndex: 10689 entries, 0 to 10688\n",
      "Data columns (total 34 columns):\n",
      " #   Column                           Non-Null Count  Dtype\n",
      "---  ------                           --------------  -----\n",
      " 0   customer_lifetime_value          10689 non-null  int64\n",
      " 1   income                           10689 non-null  int64\n",
      " 2   monthly_premium_auto             10689 non-null  int64\n",
      " 3   months_since_last_claim          10689 non-null  int64\n",
      " 4   months_since_policy_inception    10689 non-null  int64\n",
      " 5   number_of_policies               10689 non-null  int64\n",
      " 6   renew_offer_type                 10689 non-null  int64\n",
      " 7   number_of_open_complaints        10689 non-null  int64\n",
      " 8   region_east                      10689 non-null  int64\n",
      " 9   region_north west                10689 non-null  int64\n",
      " 10  region_west region               10689 non-null  int64\n",
      " 11  response_yes                     10689 non-null  int64\n",
      " 12  gender_m                         10689 non-null  int64\n",
      " 13  policy_type_personal auto        10689 non-null  int64\n",
      " 14  policy_type_special auto         10689 non-null  int64\n",
      " 15  employment_status_employed       10689 non-null  int64\n",
      " 16  employment_status_medical leave  10689 non-null  int64\n",
      " 17  employment_status_retired        10689 non-null  int64\n",
      " 18  employment_status_unemployed     10689 non-null  int64\n",
      " 19  vehicle_class_luxury car         10689 non-null  int64\n",
      " 20  vehicle_class_luxury suv         10689 non-null  int64\n",
      " 21  vehicle_class_sports car         10689 non-null  int64\n",
      " 22  vehicle_class_suv                10689 non-null  int64\n",
      " 23  vehicle_class_two-door car       10689 non-null  int64\n",
      " 24  vehicle_size_medsize             10689 non-null  int64\n",
      " 25  vehicle_size_small               10689 non-null  int64\n",
      " 26  marital_status_married           10689 non-null  int64\n",
      " 27  marital_status_single            10689 non-null  int64\n",
      " 28  location_code_suburban           10689 non-null  int64\n",
      " 29  location_code_urban              10689 non-null  int64\n",
      " 30  coverage                         10689 non-null  int64\n",
      " 31  education                        10689 non-null  int64\n",
      " 32  month                            10689 non-null  int64\n",
      " 33  policy                           10689 non-null  int64\n",
      "dtypes: int64(34)\n",
      "memory usage: 2.8 MB\n"
     ]
    }
   ],
   "source": [
    "x.info()"
   ]
  },
  {
   "cell_type": "markdown",
   "id": "7ce0ed48",
   "metadata": {},
   "source": [
    "## Model Prediction/ Testing"
   ]
  },
  {
   "cell_type": "code",
   "execution_count": 56,
   "id": "80561e94",
   "metadata": {},
   "outputs": [],
   "source": [
    "y_pred_test=model.predict(x_test_scaled) #model prediction with the 30% observations we include in the train-test-split\n",
    "\n",
    "y_pred_train = model.predict (x_train_scaled) # prediction of y with the 70% of the train data \n"
   ]
  },
  {
   "cell_type": "code",
   "execution_count": 57,
   "id": "95929a86",
   "metadata": {},
   "outputs": [
    {
     "data": {
      "text/plain": [
       "array([461.12065598, 405.98003098, 137.10503098, ..., 573.79422993,\n",
       "       -20.87153152, 465.35503098])"
      ]
     },
     "execution_count": 57,
     "metadata": {},
     "output_type": "execute_result"
    }
   ],
   "source": [
    "y_pred_test"
   ]
  },
  {
   "cell_type": "code",
   "execution_count": 58,
   "id": "3aa9f866",
   "metadata": {},
   "outputs": [
    {
     "data": {
      "text/plain": [
       "4665     345\n",
       "4072     345\n",
       "4549     257\n",
       "4211     445\n",
       "3081     523\n",
       "        ... \n",
       "3488     404\n",
       "1667     554\n",
       "1516     350\n",
       "10215     27\n",
       "2931     320\n",
       "Name: total_claim_amount, Length: 3207, dtype: int64"
      ]
     },
     "execution_count": 58,
     "metadata": {},
     "output_type": "execute_result"
    }
   ],
   "source": [
    "y_test"
   ]
  },
  {
   "cell_type": "markdown",
   "id": "bb1da353",
   "metadata": {},
   "source": [
    "## Predicition with new data "
   ]
  },
  {
   "cell_type": "markdown",
   "id": "456aa08c",
   "metadata": {},
   "source": [
    "    We use following new customer as an example \n",
    "- customer_lifetime_value = __400__\n",
    "- income = **80.000**\n",
    "- monthly_premium_auto = **150** \n",
    "- months_since_last_claim =**3**\n",
    "- months_since_policy_inception = **12**\n",
    "- number_of_policies = **4**\n",
    "- renew_offer_type  = **2**\n",
    "- number_of_open_complaints  = **4**\n",
    "- region_east = **0**\n",
    "- region_north west =**1**\n",
    "- region_west region  = **0**\n",
    "- response_yes  = **1** \n",
    "- gender_m      = **1**\n",
    "- policy_type_personal auto       = **0**\n",
    "- policy_type_special auto        = **0**\n",
    "- employment_status_employed      = **1** \n",
    "- employment_status_medical leave  = **0**\n",
    "- employment_status_retired        =**0**\n",
    "- employment_status_unemployed     =**0**\n",
    "- vehicle_class_luxury car         =**0**\n",
    "- vehicle_class_luxury suv        =**1**\n",
    "- vehicle_class_sports car       =**0**\n",
    "- vehicle_class_suv               =**0**\n",
    "- vehicle_class_two-door car      =**0**\n",
    "- vehicle_size_medsize             =**0**\n",
    "- vehicle_size_small                 =**0**\n",
    "- marital_status_married      \n",
    "-  marital_status_single =**1**\n",
    "-  location_code_suburban   = **1**        \n",
    "- location_code_urban       =**0**       \n",
    "- coverage               =**2**         \n",
    "-  education         =**3**               \n",
    "- month          =**1**                  \n",
    "-  policy   =**2**"
   ]
  },
  {
   "cell_type": "code",
   "execution_count": 68,
   "id": "6ef64d19",
   "metadata": {},
   "outputs": [
    {
     "name": "stderr",
     "output_type": "stream",
     "text": [
      "/Users/elisabethoeljeklaus/opt/anaconda3/lib/python3.9/site-packages/sklearn/base.py:450: UserWarning: X does not have valid feature names, but StandardScaler was fitted with feature names\n",
      "  warnings.warn(\n"
     ]
    }
   ],
   "source": [
    "new_data=[400,80000,150,3,12,4,2,4,0,1,0,1,1,0,0,1,0,0,0,0,1,0,0,0,0,1,1,0,2,3,1,2,1,1]\n",
    "new_data_scaled= std_scaler.transform(np.array(new_data).reshape(-1,34)) # using std_scaler.transform because we need the same means, and std. deviation from the X_train "
   ]
  },
  {
   "cell_type": "code",
   "execution_count": 69,
   "id": "027a233d",
   "metadata": {},
   "outputs": [
    {
     "data": {
      "text/plain": [
       "(1, 34)"
      ]
     },
     "execution_count": 69,
     "metadata": {},
     "output_type": "execute_result"
    }
   ],
   "source": [
    "np.array(np.array(new_data).reshape(-1,34)).shape\n"
   ]
  },
  {
   "cell_type": "code",
   "execution_count": 70,
   "id": "ace726d2",
   "metadata": {},
   "outputs": [
    {
     "data": {
      "text/plain": [
       "array([1.93890701e+14])"
      ]
     },
     "execution_count": 70,
     "metadata": {},
     "output_type": "execute_result"
    }
   ],
   "source": [
    "model.predict(new_data_scaled) # output is the  prediction of the value of the total claim amount in $"
   ]
  },
  {
   "cell_type": "markdown",
   "id": "b3b5fb8e",
   "metadata": {},
   "source": [
    "#  Model Evaluation\n",
    "\n",
    "- Evaluating the Model (Validation test - train)"
   ]
  },
  {
   "cell_type": "code",
   "execution_count": 71,
   "id": "63494a9f",
   "metadata": {},
   "outputs": [
    {
     "data": {
      "text/plain": [
       "4665     345\n",
       "4072     345\n",
       "4549     257\n",
       "4211     445\n",
       "3081     523\n",
       "        ... \n",
       "3488     404\n",
       "1667     554\n",
       "1516     350\n",
       "10215     27\n",
       "2931     320\n",
       "Name: total_claim_amount, Length: 3207, dtype: int64"
      ]
     },
     "execution_count": 71,
     "metadata": {},
     "output_type": "execute_result"
    }
   ],
   "source": [
    "y_test"
   ]
  },
  {
   "cell_type": "code",
   "execution_count": 72,
   "id": "e838cf5f",
   "metadata": {},
   "outputs": [
    {
     "data": {
      "text/plain": [
       "array([461.12065598, 405.98003098, 137.10503098, ..., 573.79422993,\n",
       "       -20.87153152, 465.35503098])"
      ]
     },
     "execution_count": 72,
     "metadata": {},
     "output_type": "execute_result"
    }
   ],
   "source": [
    "y_pred_test "
   ]
  },
  {
   "cell_type": "code",
   "execution_count": 73,
   "id": "013f6d8e",
   "metadata": {},
   "outputs": [],
   "source": [
    "result=pd.DataFrame({\"y_test\":y_test,\"y_pred_test\":y_pred_test})"
   ]
  },
  {
   "cell_type": "code",
   "execution_count": 74,
   "id": "7612b070",
   "metadata": {},
   "outputs": [
    {
     "data": {
      "text/plain": [
       "[<matplotlib.lines.Line2D at 0x7fa5ac31a6d0>]"
      ]
     },
     "execution_count": 74,
     "metadata": {},
     "output_type": "execute_result"
    },
    {
     "data": {
      "image/png": "[encoded data removed]",
      "text/plain": [
       "<Figure size 1008x288 with 3 Axes>"
      ]
     },
     "metadata": {
      "needs_background": "light"
     },
     "output_type": "display_data"
    }
   ],
   "source": [
    "# Make an scatter plot y_pred vs y\n",
    "# What kind of plot you will get if all the all the predictions are ok?\n",
    "# A stright line\n",
    "\n",
    "fig, ax = plt.subplots(1,3,figsize=(14,4))\n",
    "ax[0].plot(y_pred_test, y_test, 'o')\n",
    "ax[0].set_xlabel(\"y_test\")\n",
    "ax[0].set_ylabel(\"y_pred\")\n",
    "ax[0].set_title(\"Test Set -Predicted vs real\")\n",
    "\n",
    "# Get a histogram of the residuals ie: y - y_pred.  Homoscdasticity\n",
    "# It resembles a normal distribution?\n",
    "ax[1].hist(y_test - y_pred_test)\n",
    "ax[1].set_xlabel(\"Test y-y_pred\")\n",
    "ax[1].set_title(\"Test Set Residual histogram\")\n",
    "\n",
    "\n",
    "ax[2].plot(y_pred_test,y_test - y_pred_test,\"o\")\n",
    "ax[2].set_xlabel(\"predited\")\n",
    "ax[2].set_ylabel(\"residuals\")\n",
    "ax[2].set_title(\"Residuals by Predicted\")\n",
    "ax[2].plot(y_pred_test,np.zeros(len(y_pred_test)),linestyle='dashed')"
   ]
  },
  {
   "cell_type": "code",
   "execution_count": 75,
   "id": "03e6232c",
   "metadata": {},
   "outputs": [
    {
     "data": {
      "text/plain": [
       "<AxesSubplot:xlabel='y_pred_test', ylabel='y_test'>"
      ]
     },
     "execution_count": 75,
     "metadata": {},
     "output_type": "execute_result"
    },
    {
     "data": {
      "image/png": "[encoded data removed]",
      "text/plain": [
       "<Figure size 432x288 with 1 Axes>"
      ]
     },
     "metadata": {
      "needs_background": "light"
     },
     "output_type": "display_data"
    }
   ],
   "source": [
    "sns.regplot(x=\"y_pred_test\", y=\"y_test\", data=result, scatter_kws={\"color\":\"red\"}, line_kws={\"color\":\"black\"})"
   ]
  },
  {
   "cell_type": "code",
   "execution_count": 76,
   "id": "3d5a26f3",
   "metadata": {},
   "outputs": [
    {
     "name": "stdout",
     "output_type": "stream",
     "text": [
      "19223.138211497368\n"
     ]
    }
   ],
   "source": [
    "print(mse(y_test,y_pred_test))"
   ]
  },
  {
   "cell_type": "code",
   "execution_count": 77,
   "id": "fdf3e9ff",
   "metadata": {},
   "outputs": [
    {
     "name": "stdout",
     "output_type": "stream",
     "text": [
      "96.10529102735283\n"
     ]
    }
   ],
   "source": [
    "print(mae(y_test,y_pred_test)) "
   ]
  },
  {
   "cell_type": "code",
   "execution_count": 78,
   "id": "08284f89",
   "metadata": {},
   "outputs": [
    {
     "name": "stdout",
     "output_type": "stream",
     "text": [
      "138.6475322950155\n"
     ]
    }
   ],
   "source": [
    "print(mse(y_test, y_pred_test, squared=False))"
   ]
  },
  {
   "cell_type": "markdown",
   "id": "99b20df9",
   "metadata": {},
   "source": [
    "##  R<sup>2</sup> to explain the quality of the model \n",
    "    we compare the R2 from the train and the test data --> there are 2 different sickit functions to find R^2\n",
    "      \n",
    "\n",
    "<mark> To IMPROVE the R2 (increase the KPI) there are a lot of diffrent approaches: </mark>\n",
    "1. remove outliers and different \n",
    "2. [klick here for more](https://towardsdatascience.com/how-to-improve-the-accuracy-of-a-regression-model-3517accf8604)\n",
    "\n",
    "\n",
    "    \n"
   ]
  },
  {
   "cell_type": "code",
   "execution_count": 79,
   "id": "acbae572",
   "metadata": {},
   "outputs": [
    {
     "data": {
      "text/plain": [
       "0.7695482517061298"
      ]
     },
     "execution_count": 79,
     "metadata": {},
     "output_type": "execute_result"
    }
   ],
   "source": [
    "R2=r2_score(y_test,y_pred_test)\n",
    "R2\n"
   ]
  },
  {
   "cell_type": "code",
   "execution_count": 80,
   "id": "446a501d",
   "metadata": {},
   "outputs": [
    {
     "data": {
      "text/plain": [
       "0.7697937049368153"
      ]
     },
     "execution_count": 80,
     "metadata": {},
     "output_type": "execute_result"
    }
   ],
   "source": [
    "R22=r2_score(y_train,y_pred_train)\n",
    "R22"
   ]
  },
  {
   "cell_type": "code",
   "execution_count": 82,
   "id": "085af440",
   "metadata": {},
   "outputs": [
    {
     "data": {
      "text/plain": [
       "0.7670780879476206"
      ]
     },
     "execution_count": 82,
     "metadata": {},
     "output_type": "execute_result"
    }
   ],
   "source": [
    "Adj_R2= 1 - (1-R2)*(len(y_test)-1)/(len(y_test)-x_test.shape[1]-1)\n",
    "Adj_R2"
   ]
  },
  {
   "cell_type": "markdown",
   "id": "66c51ae7",
   "metadata": {},
   "source": [
    "# Feature Importance"
   ]
  },
  {
   "cell_type": "code",
   "execution_count": 84,
   "id": "d1d83e93",
   "metadata": {},
   "outputs": [
    {
     "data": {
      "text/plain": [
       "34"
      ]
     },
     "execution_count": 84,
     "metadata": {},
     "output_type": "execute_result"
    }
   ],
   "source": [
    "# getting number of independent features  /parameters of linear funcciton\n",
    "x_test.shape[1]"
   ]
  },
  {
   "cell_type": "code",
   "execution_count": 86,
   "id": "4d72b205",
   "metadata": {},
   "outputs": [
    {
     "data": {
      "text/html": [
       "<div>\n",
       "<style scoped>\n",
       "    .dataframe tbody tr th:only-of-type {\n",
       "        vertical-align: middle;\n",
       "    }\n",
       "\n",
       "    .dataframe tbody tr th {\n",
       "        vertical-align: top;\n",
       "    }\n",
       "\n",
       "    .dataframe thead th {\n",
       "        text-align: right;\n",
       "    }\n",
       "</style>\n",
       "<table border=\"1\" class=\"dataframe\">\n",
       "  <thead>\n",
       "    <tr style=\"text-align: right;\">\n",
       "      <th></th>\n",
       "      <th>Attribute</th>\n",
       "      <th>Importance</th>\n",
       "    </tr>\n",
       "  </thead>\n",
       "  <tbody>\n",
       "    <tr>\n",
       "      <th>33</th>\n",
       "      <td>policy</td>\n",
       "      <td>1.046526e+14</td>\n",
       "    </tr>\n",
       "    <tr>\n",
       "      <th>13</th>\n",
       "      <td>policy_type_personal auto</td>\n",
       "      <td>8.465588e+13</td>\n",
       "    </tr>\n",
       "    <tr>\n",
       "      <th>14</th>\n",
       "      <td>policy_type_special auto</td>\n",
       "      <td>3.852080e+13</td>\n",
       "    </tr>\n",
       "    <tr>\n",
       "      <th>28</th>\n",
       "      <td>location_code_suburban</td>\n",
       "      <td>1.841422e+02</td>\n",
       "    </tr>\n",
       "    <tr>\n",
       "      <th>2</th>\n",
       "      <td>monthly_premium_auto</td>\n",
       "      <td>1.791326e+02</td>\n",
       "    </tr>\n",
       "    <tr>\n",
       "      <th>29</th>\n",
       "      <td>location_code_urban</td>\n",
       "      <td>8.481320e+01</td>\n",
       "    </tr>\n",
       "    <tr>\n",
       "      <th>18</th>\n",
       "      <td>employment_status_unemployed</td>\n",
       "      <td>3.849295e+01</td>\n",
       "    </tr>\n",
       "    <tr>\n",
       "      <th>27</th>\n",
       "      <td>marital_status_single</td>\n",
       "      <td>3.078288e+01</td>\n",
       "    </tr>\n",
       "    <tr>\n",
       "      <th>11</th>\n",
       "      <td>response_yes</td>\n",
       "      <td>8.195941e+00</td>\n",
       "    </tr>\n",
       "    <tr>\n",
       "      <th>12</th>\n",
       "      <td>gender_m</td>\n",
       "      <td>7.977774e+00</td>\n",
       "    </tr>\n",
       "    <tr>\n",
       "      <th>22</th>\n",
       "      <td>vehicle_class_suv</td>\n",
       "      <td>6.132811e+00</td>\n",
       "    </tr>\n",
       "    <tr>\n",
       "      <th>30</th>\n",
       "      <td>coverage</td>\n",
       "      <td>5.674818e+00</td>\n",
       "    </tr>\n",
       "    <tr>\n",
       "      <th>1</th>\n",
       "      <td>income</td>\n",
       "      <td>4.986779e+00</td>\n",
       "    </tr>\n",
       "    <tr>\n",
       "      <th>19</th>\n",
       "      <td>vehicle_class_luxury car</td>\n",
       "      <td>4.973773e+00</td>\n",
       "    </tr>\n",
       "    <tr>\n",
       "      <th>21</th>\n",
       "      <td>vehicle_class_sports car</td>\n",
       "      <td>4.686140e+00</td>\n",
       "    </tr>\n",
       "    <tr>\n",
       "      <th>31</th>\n",
       "      <td>education</td>\n",
       "      <td>4.489332e+00</td>\n",
       "    </tr>\n",
       "    <tr>\n",
       "      <th>3</th>\n",
       "      <td>months_since_last_claim</td>\n",
       "      <td>4.427966e+00</td>\n",
       "    </tr>\n",
       "    <tr>\n",
       "      <th>16</th>\n",
       "      <td>employment_status_medical leave</td>\n",
       "      <td>4.142508e+00</td>\n",
       "    </tr>\n",
       "    <tr>\n",
       "      <th>24</th>\n",
       "      <td>vehicle_size_medsize</td>\n",
       "      <td>3.305932e+00</td>\n",
       "    </tr>\n",
       "    <tr>\n",
       "      <th>6</th>\n",
       "      <td>renew_offer_type</td>\n",
       "      <td>2.954956e+00</td>\n",
       "    </tr>\n",
       "    <tr>\n",
       "      <th>8</th>\n",
       "      <td>region_east</td>\n",
       "      <td>2.207935e+00</td>\n",
       "    </tr>\n",
       "    <tr>\n",
       "      <th>10</th>\n",
       "      <td>region_west region</td>\n",
       "      <td>2.138133e+00</td>\n",
       "    </tr>\n",
       "    <tr>\n",
       "      <th>15</th>\n",
       "      <td>employment_status_employed</td>\n",
       "      <td>1.561254e+00</td>\n",
       "    </tr>\n",
       "    <tr>\n",
       "      <th>5</th>\n",
       "      <td>number_of_policies</td>\n",
       "      <td>1.290584e+00</td>\n",
       "    </tr>\n",
       "    <tr>\n",
       "      <th>7</th>\n",
       "      <td>number_of_open_complaints</td>\n",
       "      <td>1.238954e+00</td>\n",
       "    </tr>\n",
       "    <tr>\n",
       "      <th>20</th>\n",
       "      <td>vehicle_class_luxury suv</td>\n",
       "      <td>1.031058e+00</td>\n",
       "    </tr>\n",
       "    <tr>\n",
       "      <th>32</th>\n",
       "      <td>month</td>\n",
       "      <td>7.856623e-01</td>\n",
       "    </tr>\n",
       "    <tr>\n",
       "      <th>25</th>\n",
       "      <td>vehicle_size_small</td>\n",
       "      <td>3.171890e-01</td>\n",
       "    </tr>\n",
       "    <tr>\n",
       "      <th>0</th>\n",
       "      <td>customer_lifetime_value</td>\n",
       "      <td>2.635342e-01</td>\n",
       "    </tr>\n",
       "    <tr>\n",
       "      <th>26</th>\n",
       "      <td>marital_status_married</td>\n",
       "      <td>2.414598e-01</td>\n",
       "    </tr>\n",
       "    <tr>\n",
       "      <th>23</th>\n",
       "      <td>vehicle_class_two-door car</td>\n",
       "      <td>1.901830e-01</td>\n",
       "    </tr>\n",
       "    <tr>\n",
       "      <th>4</th>\n",
       "      <td>months_since_policy_inception</td>\n",
       "      <td>1.551625e-01</td>\n",
       "    </tr>\n",
       "    <tr>\n",
       "      <th>9</th>\n",
       "      <td>region_north west</td>\n",
       "      <td>1.194455e-01</td>\n",
       "    </tr>\n",
       "    <tr>\n",
       "      <th>17</th>\n",
       "      <td>employment_status_retired</td>\n",
       "      <td>4.920149e-02</td>\n",
       "    </tr>\n",
       "  </tbody>\n",
       "</table>\n",
       "</div>"
      ],
      "text/plain": [
       "                          Attribute    Importance\n",
       "33                           policy  1.046526e+14\n",
       "13        policy_type_personal auto  8.465588e+13\n",
       "14         policy_type_special auto  3.852080e+13\n",
       "28           location_code_suburban  1.841422e+02\n",
       "2              monthly_premium_auto  1.791326e+02\n",
       "29              location_code_urban  8.481320e+01\n",
       "18     employment_status_unemployed  3.849295e+01\n",
       "27            marital_status_single  3.078288e+01\n",
       "11                     response_yes  8.195941e+00\n",
       "12                         gender_m  7.977774e+00\n",
       "22                vehicle_class_suv  6.132811e+00\n",
       "30                         coverage  5.674818e+00\n",
       "1                            income  4.986779e+00\n",
       "19         vehicle_class_luxury car  4.973773e+00\n",
       "21         vehicle_class_sports car  4.686140e+00\n",
       "31                        education  4.489332e+00\n",
       "3           months_since_last_claim  4.427966e+00\n",
       "16  employment_status_medical leave  4.142508e+00\n",
       "24             vehicle_size_medsize  3.305932e+00\n",
       "6                  renew_offer_type  2.954956e+00\n",
       "8                       region_east  2.207935e+00\n",
       "10               region_west region  2.138133e+00\n",
       "15       employment_status_employed  1.561254e+00\n",
       "5                number_of_policies  1.290584e+00\n",
       "7         number_of_open_complaints  1.238954e+00\n",
       "20         vehicle_class_luxury suv  1.031058e+00\n",
       "32                            month  7.856623e-01\n",
       "25               vehicle_size_small  3.171890e-01\n",
       "0           customer_lifetime_value  2.635342e-01\n",
       "26           marital_status_married  2.414598e-01\n",
       "23       vehicle_class_two-door car  1.901830e-01\n",
       "4     months_since_policy_inception  1.551625e-01\n",
       "9                 region_north west  1.194455e-01\n",
       "17        employment_status_retired  4.920149e-02"
      ]
     },
     "execution_count": 86,
     "metadata": {},
     "output_type": "execute_result"
    }
   ],
   "source": [
    "features_importances = pd.DataFrame(data = {\"Attribute\": x_train.columns, \"Importance\": abs(model.coef_)})\n",
    "features_importances = features_importances.sort_values(by=\"Importance\", ascending=False)\n",
    "features_importances"
   ]
  },
  {
   "cell_type": "code",
   "execution_count": 87,
   "id": "9d8b5814",
   "metadata": {},
   "outputs": [
    {
     "data": {
      "image/png": "[encoded data removed]",
      "text/plain": [
       "<Figure size 432x288 with 1 Axes>"
      ]
     },
     "metadata": {
      "needs_background": "light"
     },
     "output_type": "display_data"
    }
   ],
   "source": [
    "sns.barplot(x=\"Attribute\",y=\"Importance\", data=features_importances)\n",
    "plt.title(\"Feature importances obtained from coefficients\", size=20)\n",
    "plt.xticks (rotation=\"vertical\")\n",
    "plt.show()"
   ]
  },
  {
   "cell_type": "markdown",
   "id": "3ad1ff28",
   "metadata": {},
   "source": [
    "# OPTIONAL Removing Outliers in the numerical data fram"
   ]
  },
  {
   "cell_type": "code",
   "execution_count": 96,
   "id": "777a61fd",
   "metadata": {},
   "outputs": [
    {
     "data": {
      "text/plain": [
       "(0.7695482517061298, 96.10529102735283, 138.6475322950155)"
      ]
     },
     "execution_count": 96,
     "metadata": {},
     "output_type": "execute_result"
    }
   ],
   "source": [
    "x\n",
    "model_1= RandomForestRegressor()\n",
    "#transforming target variable through quantile transformer\n",
    "ttr = TransformedTargetRegressor(regressor=model, transformer=QuantileTransformer(output_distribution='normal'))\n",
    "ttr.fit(x_train, y_train)\n",
    "yhat = ttr.predict(x_test)\n",
    "r2_score(y_test,y_pred_test), mae(y_test, y_pred_test), np.sqrt(mse(y_test, y_pred_test))"
   ]
  },
  {
   "cell_type": "code",
   "execution_count": 101,
   "id": "930bd931",
   "metadata": {},
   "outputs": [
    {
     "data": {
      "text/plain": [
       "(0.77, 96.11, 138.65)"
      ]
     },
     "execution_count": 101,
     "metadata": {},
     "output_type": "execute_result"
    }
   ],
   "source": [
    "model_2 = DecisionTreeRegressor()\n",
    "regr_trans = TransformedTargetRegressor(regressor=model, transformer=QuantileTransformer(output_distribution='normal'))\n",
    "regr_trans.fit(x_train, y_train)\n",
    "yhat = regr_trans.predict(x_test)\n",
    "round(r2_score(y_test, y_pred_test), 3), round(mae(y_test, y_pred_test), 2), round(np.sqrt(mse(y_test, y_pred_test)),2)"
   ]
  },
  {
   "cell_type": "code",
   "execution_count": 103,
   "id": "607f5b4f",
   "metadata": {},
   "outputs": [
    {
     "name": "stdout",
     "output_type": "stream",
     "text": [
      "<class 'pandas.core.frame.DataFrame'>\n",
      "RangeIndex: 10689 entries, 0 to 10688\n",
      "Data columns (total 7 columns):\n",
      " #   Column                         Non-Null Count  Dtype\n",
      "---  ------                         --------------  -----\n",
      " 0   customer_lifetime_value        10689 non-null  int64\n",
      " 1   income                         10689 non-null  int64\n",
      " 2   monthly_premium_auto           10689 non-null  int64\n",
      " 3   months_since_last_claim        10689 non-null  int64\n",
      " 4   months_since_policy_inception  10689 non-null  int64\n",
      " 5   number_of_policies             10689 non-null  int64\n",
      " 6   total_claim_amount             10689 non-null  int64\n",
      "dtypes: int64(7)\n",
      "memory usage: 584.7 KB\n"
     ]
    }
   ],
   "source": [
    "ca_numerical.info()"
   ]
  },
  {
   "cell_type": "code",
   "execution_count": 104,
   "id": "e0b9bff3",
   "metadata": {},
   "outputs": [
    {
     "ename": "NameError",
     "evalue": "name 'stats' is not defined",
     "output_type": "error",
     "traceback": [
      "\u001b[0;31m---------------------------------------------------------------------------\u001b[0m",
      "\u001b[0;31mNameError\u001b[0m                                 Traceback (most recent call last)",
      "Input \u001b[0;32mIn [104]\u001b[0m, in \u001b[0;36m<cell line: 1>\u001b[0;34m()\u001b[0m\n\u001b[0;32m----> 1\u001b[0m ca_numerical[(np\u001b[38;5;241m.\u001b[39mabs(\u001b[43mstats\u001b[49m\u001b[38;5;241m.\u001b[39mzscore(ca_numerical[\u001b[38;5;241m0\u001b[39m])) \u001b[38;5;241m<\u001b[39m \u001b[38;5;241m3\u001b[39m)]\n",
      "\u001b[0;31mNameError\u001b[0m: name 'stats' is not defined"
     ]
    }
   ],
   "source": [
    "ca_numerical[(np.abs(stats.zscore(ca_numerical[0])) < 3)]"
   ]
  },
  {
   "cell_type": "code",
   "execution_count": null,
   "id": "487ce24a",
   "metadata": {},
   "outputs": [],
   "source": []
  }
 ],
 "metadata": {
  "kernelspec": {
   "display_name": "Python 3 (ipykernel)",
   "language": "python",
   "name": "python3"
  },
  "language_info": {
   "codemirror_mode": {
    "name": "ipython",
    "version": 3
   },
   "file_extension": ".py",
   "mimetype": "text/x-python",
   "name": "python",
   "nbconvert_exporter": "python",
   "pygments_lexer": "ipython3",
   "version": "3.9.12"
  },
  "toc": {
   "base_numbering": 1,
   "nav_menu": {},
   "number_sections": true,
   "sideBar": true,
   "skip_h1_title": false,
   "title_cell": "Table of Contents",
   "title_sidebar": "Contents",
   "toc_cell": false,
   "toc_position": {},
   "toc_section_display": true,
   "toc_window_display": true
  }
 },
 "nbformat": 4,
 "nbformat_minor": 5
}
