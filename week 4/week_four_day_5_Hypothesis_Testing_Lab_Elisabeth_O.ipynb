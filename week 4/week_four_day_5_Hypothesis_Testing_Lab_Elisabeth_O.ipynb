{
 "cells": [
  {
   "cell_type": "markdown",
   "id": "3b4c6930",
   "metadata": {},
   "source": [
    "__INSTRUCTIONS__\n",
    "- It is assumed that the mean systolic blood pressure is μ = 120 mm Hg. In the Honolulu Heart Study, a sample of n = 100 people had an average systolic blood pressure of 130.1 mm Hg with a standard deviation of 21.21 mm Hg. Is the group significantly different (with respect to systolic blood pressure!) from the regular population?\n",
    "\n",
    "1. Set up the hypothesis test.\n",
    "2. Write down all the steps followed for setting up the test.\n",
    "3. Calculate the test statistic by hand and also code it in Python. It should be 4.76190. What decision can you make based on this calculated value?"
   ]
  },
  {
   "cell_type": "code",
   "execution_count": 100,
   "id": "17d7b028",
   "metadata": {},
   "outputs": [],
   "source": [
    "pop_mean=120\n",
    "n=100\n",
    "sam_mean=130.1\n",
    "sam_std=21.21"
   ]
  },
  {
   "cell_type": "markdown",
   "id": "cec9c114",
   "metadata": {},
   "source": [
    "-  Ho = 120  Ha != 120\n",
    "- Which means its two tailed test \n",
    "- n is above 30 --> z-test __BUT__ no population std. dev. is know --> __t-test__ \n",
    "\n",
    "1. Calculate t - statistic\n",
    "\n",
    "\n",
    "\n",
    "\n"
   ]
  },
  {
   "cell_type": "code",
   "execution_count": 101,
   "id": "21d10af1",
   "metadata": {},
   "outputs": [
    {
     "data": {
      "text/plain": [
       "4.761904761904759"
      ]
     },
     "execution_count": 101,
     "metadata": {},
     "output_type": "execute_result"
    }
   ],
   "source": [
    "t = (sam_mean - pop_mean)/ (21.21/100**0.5)\n",
    "t"
   ]
  },
  {
   "cell_type": "code",
   "execution_count": 102,
   "id": "baabfe08",
   "metadata": {},
   "outputs": [],
   "source": [
    "from scipy import stats"
   ]
  },
  {
   "cell_type": "code",
   "execution_count": 103,
   "id": "3bf044ef",
   "metadata": {},
   "outputs": [
    {
     "data": {
      "text/plain": [
       "1.9842169515086827"
      ]
     },
     "execution_count": 103,
     "metadata": {},
     "output_type": "execute_result"
    }
   ],
   "source": [
    "from_t_table=1.984 \n",
    "tc= scipy.stats.t.ppf(0.975,99)\n",
    "tc"
   ]
  },
  {
   "cell_type": "markdown",
   "id": "0740cfc9",
   "metadata": {},
   "source": [
    "    The critical value is at 1.984 and our t-statistic is waay higher. \n",
    "    \n",
    "Which concludes that the Hypothesis that the avg. systolic blood pressure __IS NOT__ 120 mm Hg. therefore we reject the Hypothesis.\n"
   ]
  },
  {
   "cell_type": "markdown",
   "id": "924dedc1",
   "metadata": {},
   "source": [
    "        OPTIONAL"
   ]
  },
  {
   "cell_type": "markdown",
   "id": "8fd5cdb1",
   "metadata": {},
   "source": [
    "2. In a packing plant, a machine packs cartons with jars. It is supposed that a new machine will pack faster on the average than the machine currently used. To test that hypothesis, the times it takes each machine to pack ten cartons are recorded. The results, in seconds, are shown in the tables in the file `Data/machine.txt`\n",
    "- Assume that there is sufficient evidence to conduct the t test, does the data provide sufficient evidence to show if one machine is better than the other.\n"
   ]
  },
  {
   "cell_type": "code",
   "execution_count": 104,
   "id": "d757802c",
   "metadata": {},
   "outputs": [],
   "source": [
    "import pandas as pd"
   ]
  },
  {
   "cell_type": "code",
   "execution_count": 105,
   "id": "ea2e7ee4",
   "metadata": {},
   "outputs": [],
   "source": [
    "machine= pd.read_csv(\"data/Data_Machine.txt\")"
   ]
  },
  {
   "cell_type": "code",
   "execution_count": 106,
   "id": "a58b2cee",
   "metadata": {},
   "outputs": [
    {
     "data": {
      "text/plain": [
       "Index(['New Machine\\t  Old Machine'], dtype='object')"
      ]
     },
     "execution_count": 106,
     "metadata": {},
     "output_type": "execute_result"
    }
   ],
   "source": [
    "machine.columns"
   ]
  },
  {
   "cell_type": "code",
   "execution_count": 99,
   "id": "cb3d6afd",
   "metadata": {},
   "outputs": [
    {
     "ename": "SyntaxError",
     "evalue": "invalid syntax (3989094764.py, line 1)",
     "output_type": "error",
     "traceback": [
      "\u001b[0;36m  Input \u001b[0;32mIn [99]\u001b[0;36m\u001b[0m\n\u001b[0;31m    machine[\"Old\"] = machine[\"New Machine\\t  Old Machine\"].map(lambda x: x.lstrip(\"\\t\")if isinstance(x,str))\u001b[0m\n\u001b[0m                                                                                                           ^\u001b[0m\n\u001b[0;31mSyntaxError\u001b[0m\u001b[0;31m:\u001b[0m invalid syntax\n"
     ]
    }
   ],
   "source": [
    "x =[]\n",
    "x = machine[\"New Machine\\t  Old Machine\"].map(lambda x: x.lstrip(\"\\t\")if isinstance(x,str))"
   ]
  },
  {
   "cell_type": "code",
   "execution_count": null,
   "id": "a671cf8d",
   "metadata": {},
   "outputs": [],
   "source": [
    "x"
   ]
  },
  {
   "cell_type": "code",
   "execution_count": null,
   "id": "a5f09d6c",
   "metadata": {},
   "outputs": [],
   "source": [
    "machine.insert(0,\"Old\",x)"
   ]
  },
  {
   "cell_type": "code",
   "execution_count": null,
   "id": "85ffc574",
   "metadata": {},
   "outputs": [],
   "source": [
    "machine"
   ]
  },
  {
   "cell_type": "code",
   "execution_count": null,
   "id": "c95b73b9",
   "metadata": {},
   "outputs": [],
   "source": []
  }
 ],
 "metadata": {
  "kernelspec": {
   "display_name": "Python 3 (ipykernel)",
   "language": "python",
   "name": "python3"
  },
  "language_info": {
   "codemirror_mode": {
    "name": "ipython",
    "version": 3
   },
   "file_extension": ".py",
   "mimetype": "text/x-python",
   "name": "python",
   "nbconvert_exporter": "python",
   "pygments_lexer": "ipython3",
   "version": "3.9.12"
  },
  "toc": {
   "base_numbering": 1,
   "nav_menu": {},
   "number_sections": true,
   "sideBar": true,
   "skip_h1_title": false,
   "title_cell": "Table of Contents",
   "title_sidebar": "Contents",
   "toc_cell": false,
   "toc_position": {},
   "toc_section_display": true,
   "toc_window_display": false
  }
 },
 "nbformat": 4,
 "nbformat_minor": 5
}
