{
 "cells": [
  {
   "cell_type": "markdown",
   "id": "801c1091",
   "metadata": {},
   "source": [
    "# Rock, Paper & Scissors\n",
    "\n",
    "Let's play the famous game against our computer. You can check the rules [here](https://en.wikipedia.org/wiki/Rock%E2%80%93paper%E2%80%93scissors). \n",
    "\n",
    "## Task\n",
    "Create a program that imitates the playability of the well known game of rock, paper, scissors. Follow the guidelines provided.\n",
    "\n",
    "## Tools\n",
    "1. Loop: **for/while**\n",
    "2. Functions: **input(), print()...**\n",
    "3. Conditional statements: **if, elif, else**\n",
    "4. Definition of functions. Modular programming\n",
    "5. Import modules\n",
    "\n",
    "**To solve this challenge, the use of functions is recommended.**\n",
    "\n",
    "#### 1. Import the choice function of the random module.\n"
   ]
  },
  {
   "cell_type": "code",
   "execution_count": 1,
   "id": "4cbf96ac",
   "metadata": {},
   "outputs": [],
   "source": [
    "from random import choice as ch\n",
    "import math"
   ]
  },
  {
   "cell_type": "markdown",
   "id": "26050bb6",
   "metadata": {},
   "source": [
    "#### 2. Create a list that includes the 3 possible gesture options of the game: 'rock', 'paper' or 'scissors'. Store the list in a variable called `gestures`."
   ]
  },
  {
   "cell_type": "code",
   "execution_count": 2,
   "id": "3330e20e",
   "metadata": {},
   "outputs": [],
   "source": [
    "gestures =[\"rock\",\"paper\",\"scissors\"]"
   ]
  },
  {
   "cell_type": "markdown",
   "id": "58a0536c",
   "metadata": {},
   "source": [
    "#### 3. Create a variable called `n_rounds` to store the maximum number of rounds to play in a game. \n",
    "Remember that the number of rounds must be odd: 1, 3, 5, ..."
   ]
  },
  {
   "cell_type": "code",
   "execution_count": 3,
   "id": "eb8a50b3",
   "metadata": {},
   "outputs": [],
   "source": [
    "def n_rounds():\n",
    "    max_rounds =(int(input(\"How many rounds do you wanna play?\")))\n",
    "    while max_rounds%2==0:\n",
    "        # while max_rounds is not odd try loop again\n",
    "        print(\"Please choose a odd number of rounds, because you’ll be playing a game Best out of.\")\n",
    "        return n_rounds()\n",
    "    else:\n",
    "        print(\"You chose to play best out of\" , max_rounds ,\"rounds!\")\n",
    "        return max_rounds"
   ]
  },
  {
   "cell_type": "code",
   "execution_count": 4,
   "id": "1f832dc7",
   "metadata": {},
   "outputs": [
    {
     "name": "stdout",
     "output_type": "stream",
     "text": [
      "How many rounds do you wanna play?8\n",
      "Please choose a odd number of rounds, because you’ll be playing a game Best out of.\n",
      "How many rounds do you wanna play?8\n",
      "Please choose a odd number of rounds, because you’ll be playing a game Best out of.\n",
      "How many rounds do you wanna play?8\n",
      "Please choose a odd number of rounds, because you’ll be playing a game Best out of.\n",
      "How many rounds do you wanna play?5\n",
      "You chose to play best out of 5 rounds!\n"
     ]
    },
    {
     "data": {
      "text/plain": [
       "5"
      ]
     },
     "execution_count": 4,
     "metadata": {},
     "output_type": "execute_result"
    }
   ],
   "source": [
    "n_rounds()"
   ]
  },
  {
   "cell_type": "markdown",
   "id": "dea65f5e",
   "metadata": {},
   "source": [
    "###### 4. Create a variable called `rounds_to_win` to store the number of rounds that a player must win to win the game.\n",
    "**Hint**: the value stored in `rounds_to_win` depends on the value of `n_rounds`. "
   ]
  },
  {
   "cell_type": "code",
   "execution_count": 5,
   "id": "f51ba187",
   "metadata": {},
   "outputs": [
    {
     "name": "stdout",
     "output_type": "stream",
     "text": [
      "How many rounds do you wanna play?6\n",
      "Please choose a odd number of rounds, because you’ll be playing a game Best out of.\n",
      "How many rounds do you wanna play?5\n",
      "You chose to play best out of 5 rounds!\n"
     ]
    },
    {
     "data": {
      "text/plain": [
       "3"
      ]
     },
     "execution_count": 5,
     "metadata": {},
     "output_type": "execute_result"
    }
   ],
   "source": [
    "def rounds_to_win():\n",
    "    return (math.ceil(n_rounds()/2))\n",
    "\n",
    "rounds_to_win()"
   ]
  },
  {
   "cell_type": "markdown",
   "id": "d7d15ef5",
   "metadata": {},
   "source": [
    "#### 5. Create two variables to store the number of rounds that the computer and the player have won. Call these variables `cpu_score` and `player_score`."
   ]
  },
  {
   "cell_type": "code",
   "execution_count": 6,
   "id": "1f8bd921",
   "metadata": {},
   "outputs": [],
   "source": [
    "cpu_score=0\n",
    "player_score=0"
   ]
  },
  {
   "cell_type": "markdown",
   "id": "1d05a377",
   "metadata": {},
   "source": [
    "#### 6. Define a function that randomly returns one of the 3 gesture options.\n",
    "You will use this function to simulate the gesture choice of the computer. "
   ]
  },
  {
   "cell_type": "code",
   "execution_count": 7,
   "id": "b5ef177f",
   "metadata": {},
   "outputs": [
    {
     "data": {
      "text/plain": [
       "'scissors'"
      ]
     },
     "execution_count": 7,
     "metadata": {},
     "output_type": "execute_result"
    }
   ],
   "source": [
    "def cpu_choice():\n",
    "     return ch(gestures)\n",
    "cpu_choice()"
   ]
  },
  {
   "cell_type": "code",
   "execution_count": null,
   "id": "0f18e755",
   "metadata": {},
   "outputs": [],
   "source": []
  }
 ],
 "metadata": {
  "kernelspec": {
   "display_name": "Python 3 (ipykernel)",
   "language": "python",
   "name": "python3"
  },
  "language_info": {
   "codemirror_mode": {
    "name": "ipython",
    "version": 3
   },
   "file_extension": ".py",
   "mimetype": "text/x-python",
   "name": "python",
   "nbconvert_exporter": "python",
   "pygments_lexer": "ipython3",
   "version": "3.9.12"
  },
  "toc": {
   "base_numbering": 1,
   "nav_menu": {},
   "number_sections": true,
   "sideBar": true,
   "skip_h1_title": false,
   "title_cell": "Table of Contents",
   "title_sidebar": "Contents",
   "toc_cell": false,
   "toc_position": {},
   "toc_section_display": true,
   "toc_window_display": false
  }
 },
 "nbformat": 4,
 "nbformat_minor": 5
}
