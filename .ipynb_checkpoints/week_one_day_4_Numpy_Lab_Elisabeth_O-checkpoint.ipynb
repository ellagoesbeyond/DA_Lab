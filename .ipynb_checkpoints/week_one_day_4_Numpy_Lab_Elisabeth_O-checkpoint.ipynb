{
 "cells": [
  {
   "cell_type": "markdown",
   "id": "63443d66",
   "metadata": {},
   "source": [
    "\n",
    "\n",
    "# numpy exercises\n",
    "\n",
    "This is a collection of exercises that have been collected in the numpy mailing list, on stack overflow\n",
    "and in the numpy documentation. The goal of this collection is to offer a quick reference for both old\n",
    "and new users but also to provide a set of exercises for those who teach.\n",
    "\n",
    "\n",
    "If you find an error or think you've a better way to solve some of them, feel\n",
    "free to open an issue at <https://github.com/rougier/numpy-100>.\n",
    "File automatically generated. See the documentation to update questions/answers/hints programmatically.\n",
    "\n",
    "#### 1. Import the numpy package under the name `np` (★☆☆)\n",
    "`hint: import … as`\n",
    "\n",
    "#### 2. Create a null vector of size 10 (★☆☆)\n",
    "`hint: np.zeros`\n",
    "\n",
    "#### 3. Create a null vector of size 10 but the fifth value which is 1 (★☆☆)\n",
    "`hint: array[4]`\n",
    "\n",
    "#### 4. Create a vector with values ranging from 10 to 49 (★☆☆)\n",
    "`hint: arange`\n",
    "\n",
    "#### 5. Create a 3x3 matrix with values ranging from 0 to 8 (★☆☆)\n",
    "`hint: reshape`\n",
    "\n",
    "#### 6. Find indices of non-zero elements from [1,2,0,0,4,0] (★☆☆)\n",
    "`hint: np.nonzero`\n",
    "\n",
    "#### 7. Create a 3x3 identity matrix (★☆☆)\n",
    "`hint: np.eye`\n",
    "\n",
    "#### 8. Create a 3x3x3 array with random values (★☆☆)\n",
    "`hint: np.random.random`\n",
    "\n",
    "#### 9. Create a 10x10 array with random values and find the minimum and maximum values (★☆☆)\n",
    "`hint: min, max`\n",
    "\n",
    "#### 10. Create a random vector of size 30 and find the mean value (★☆☆)\n",
    "`hint: mean`\n",
    "\n",
    "#### 11. Create a 5x5 matrix with values 1,2,3,4 just below the diagonal (★☆☆)\n",
    "`hint: np.diag`\n",
    "\n",
    "#### 12. Normalize a 5x5 random matrix (★☆☆)\n",
    "`hint: (x -mean)/std`\n",
    "\n",
    "#### 13. How to find common values between two arrays? (★☆☆)\n",
    "`hint: np.intersect1d`\n",
    "\n",
    "#### 14. Create a random vector of size 10 and sort it (★★☆)\n",
    "`hint: sort`\n",
    "\n",
    "#### 15. Create random vector of size 10 and replace the maximum value by 0 (★★☆)\n",
    "`hint: argmax`\n",
    "\n",
    "#### 16. Subtract the mean of each row of a matrix (★★☆)\n",
    "`hint: mean(axis=,keepdims=)`\n",
    "\n",
    "#### 17. How to get the n largest values of an array (★★★)\n",
    "`Z = np.arange(10000)\n",
    "np.random.shuffle(Z)\n",
    "n = 5\n",
    "hint: np.argsort | np.argpartition`\n",
    "\n",
    "#### 18. Create a random 5*3 matrix and replace items that are larger than 4 by their squares ( Example:  6 --> 36) \n",
    "`hint: np.where`\n"
   ]
  },
  {
   "cell_type": "markdown",
   "id": "6cafa79d",
   "metadata": {},
   "source": [
    "#### 1. Import the numpy package under the name `np` (★☆☆)\n",
    "`hint: import … as`"
   ]
  },
  {
   "cell_type": "code",
   "execution_count": 20,
   "id": "8712d9f5",
   "metadata": {},
   "outputs": [],
   "source": [
    "import numpy as np"
   ]
  },
  {
   "cell_type": "markdown",
   "id": "692d7c29",
   "metadata": {},
   "source": [
    "\n",
    "#### 2. Create a null vector of size 10 (★☆☆)\n",
    "`hint: np.zeros`"
   ]
  },
  {
   "cell_type": "code",
   "execution_count": 32,
   "id": "9c778cc1",
   "metadata": {},
   "outputs": [
    {
     "data": {
      "text/plain": [
       "array([0., 0., 0., 0., 0., 0., 0., 0., 0., 0.])"
      ]
     },
     "execution_count": 32,
     "metadata": {},
     "output_type": "execute_result"
    }
   ],
   "source": [
    "a=np.zeros(10)\n",
    "a"
   ]
  },
  {
   "cell_type": "markdown",
   "id": "0bdb28bd",
   "metadata": {},
   "source": [
    "#### 3. Create a null vector of size 10 but the fifth value which is 1 (★☆☆)\n",
    "`hint: array[4]`"
   ]
  },
  {
   "cell_type": "code",
   "execution_count": 33,
   "id": "5b42baee",
   "metadata": {},
   "outputs": [
    {
     "data": {
      "text/plain": [
       "array([0., 0., 0., 0., 1., 0., 0., 0., 0., 0.])"
      ]
     },
     "execution_count": 33,
     "metadata": {},
     "output_type": "execute_result"
    }
   ],
   "source": [
    "a[4]=1\n",
    "a"
   ]
  },
  {
   "cell_type": "markdown",
   "id": "a45f95a5",
   "metadata": {},
   "source": [
    "#### 4. Create a vector with values ranging from 10 to 49 (★☆☆)\n",
    "`hint: arange`"
   ]
  },
  {
   "cell_type": "code",
   "execution_count": 34,
   "id": "fe677830",
   "metadata": {},
   "outputs": [],
   "source": [
    "b=np.arange(10,49)"
   ]
  },
  {
   "cell_type": "code",
   "execution_count": 35,
   "id": "473f4ad1",
   "metadata": {},
   "outputs": [
    {
     "data": {
      "text/plain": [
       "array([10, 11, 12, 13, 14, 15, 16, 17, 18, 19, 20, 21, 22, 23, 24, 25, 26,\n",
       "       27, 28, 29, 30, 31, 32, 33, 34, 35, 36, 37, 38, 39, 40, 41, 42, 43,\n",
       "       44, 45, 46, 47, 48])"
      ]
     },
     "execution_count": 35,
     "metadata": {},
     "output_type": "execute_result"
    }
   ],
   "source": [
    "b"
   ]
  },
  {
   "cell_type": "markdown",
   "id": "fe42674c",
   "metadata": {},
   "source": [
    "#### 5. Create a 3x3 matrix with values ranging from 0 to 8 (★☆☆)\n",
    "`hint: reshape`"
   ]
  },
  {
   "cell_type": "code",
   "execution_count": 38,
   "id": "068a10b3",
   "metadata": {},
   "outputs": [
    {
     "data": {
      "text/plain": [
       "array([[5, 1, 2],\n",
       "       [1, 6, 6],\n",
       "       [2, 7, 4]])"
      ]
     },
     "execution_count": 38,
     "metadata": {},
     "output_type": "execute_result"
    }
   ],
   "source": [
    "c=np.random.randint(0,8,(3,3))\n",
    "c\n"
   ]
  },
  {
   "cell_type": "markdown",
   "id": "cd9a258e",
   "metadata": {},
   "source": [
    "#### 6. Find indices of non-zero elements from [1,2,0,0,4,0] (★☆☆)\n",
    "`hint: np.nonzero`"
   ]
  },
  {
   "cell_type": "code",
   "execution_count": 39,
   "id": "4bb7538a",
   "metadata": {},
   "outputs": [
    {
     "data": {
      "text/plain": [
       "(array([0, 1, 4]),)"
      ]
     },
     "execution_count": 39,
     "metadata": {},
     "output_type": "execute_result"
    }
   ],
   "source": [
    "t=[1,2,0,0,4,0]\n",
    "d=np.nonzero(t)\n",
    "d"
   ]
  },
  {
   "cell_type": "markdown",
   "id": "b0669987",
   "metadata": {},
   "source": [
    "#### 7. Create a 3x3 identity matrix (★☆☆)\n",
    "`hint: np.eye`"
   ]
  },
  {
   "cell_type": "code",
   "execution_count": 40,
   "id": "85e4e4ce",
   "metadata": {},
   "outputs": [
    {
     "data": {
      "text/plain": [
       "array([[1., 0., 0.],\n",
       "       [0., 1., 0.],\n",
       "       [0., 0., 1.]])"
      ]
     },
     "execution_count": 40,
     "metadata": {},
     "output_type": "execute_result"
    }
   ],
   "source": [
    "np.eye(3,3)"
   ]
  },
  {
   "cell_type": "markdown",
   "id": "8dc153f2",
   "metadata": {},
   "source": [
    "#### 8. Create a 3x3x3 array with random values (★☆☆)\n",
    "`hint: np.random.random`"
   ]
  },
  {
   "cell_type": "code",
   "execution_count": 41,
   "id": "39632ca5",
   "metadata": {},
   "outputs": [
    {
     "data": {
      "text/plain": [
       "array([[[0.50269316, 0.17874146, 0.89137487],\n",
       "        [0.32354282, 0.4436779 , 0.12050803],\n",
       "        [0.65411684, 0.47767265, 0.75874473]],\n",
       "\n",
       "       [[0.31485868, 0.70692698, 0.10487591],\n",
       "        [0.28225005, 0.57715385, 0.38191554],\n",
       "        [0.03895546, 0.32105864, 0.28689749]],\n",
       "\n",
       "       [[0.16151296, 0.50788083, 0.70255015],\n",
       "        [0.03491315, 0.11648126, 0.46404016],\n",
       "        [0.99287767, 0.82372449, 0.26146367]]])"
      ]
     },
     "execution_count": 41,
     "metadata": {},
     "output_type": "execute_result"
    }
   ],
   "source": [
    "e=np.random.random((3,3,3))\n",
    "e"
   ]
  },
  {
   "cell_type": "markdown",
   "id": "5793cf46",
   "metadata": {},
   "source": [
    "#### 9. Create a 10x10 array with random values and find the minimum and maximum values (★☆☆)\n",
    "`hint: min, max`"
   ]
  },
  {
   "cell_type": "code",
   "execution_count": 49,
   "id": "9587e681",
   "metadata": {},
   "outputs": [
    {
     "data": {
      "text/plain": [
       "array([[0.67353224, 0.66923933, 0.29611773, 0.66772548, 0.53960564,\n",
       "        0.2673939 , 0.66553081, 0.16646913, 0.78147546, 0.33188655],\n",
       "       [0.90356128, 0.00377042, 0.79284141, 0.61570579, 0.89359792,\n",
       "        0.42092298, 0.44725143, 0.68193059, 0.6085432 , 0.92523739],\n",
       "       [0.82505607, 0.86160178, 0.82074755, 0.58674638, 0.61726298,\n",
       "        0.50711282, 0.61014735, 0.45502229, 0.13400505, 0.14272386],\n",
       "       [0.18941397, 0.76122033, 0.04327981, 0.36224689, 0.14123269,\n",
       "        0.757912  , 0.75944782, 0.67183579, 0.61166477, 0.77749857],\n",
       "       [0.16412924, 0.77953805, 0.91066506, 0.70202806, 0.73654086,\n",
       "        0.15643725, 0.24468672, 0.84542982, 0.33952465, 0.05691232],\n",
       "       [0.82850375, 0.69363524, 0.68654031, 0.24949207, 0.64283415,\n",
       "        0.1658955 , 0.78941092, 0.06233148, 0.42627002, 0.65357021],\n",
       "       [0.52747281, 0.94827421, 0.71957904, 0.30274899, 0.04379394,\n",
       "        0.33534919, 0.35720797, 0.27975598, 0.28131818, 0.14225065],\n",
       "       [0.82251987, 0.95504583, 0.74675083, 0.98320865, 0.48923515,\n",
       "        0.34188853, 0.9063801 , 0.72404834, 0.50721923, 0.37947011],\n",
       "       [0.61630061, 0.06989266, 0.34098349, 0.26722773, 0.36162086,\n",
       "        0.96888649, 0.23537423, 0.07241578, 0.93495848, 0.71779243],\n",
       "       [0.21430487, 0.27008209, 0.12201724, 0.58283711, 0.3856925 ,\n",
       "        0.57226323, 0.73305012, 0.31998298, 0.6543614 , 0.46078607]])"
      ]
     },
     "execution_count": 49,
     "metadata": {},
     "output_type": "execute_result"
    }
   ],
   "source": [
    "f=np.random.random((10,10))\n",
    "f\n",
    "\n"
   ]
  },
  {
   "cell_type": "code",
   "execution_count": 50,
   "id": "b12b6de8",
   "metadata": {},
   "outputs": [
    {
     "data": {
      "text/plain": [
       "0.9832086493380789"
      ]
     },
     "execution_count": 50,
     "metadata": {},
     "output_type": "execute_result"
    }
   ],
   "source": [
    "g=np.max(f)\n",
    "g"
   ]
  },
  {
   "cell_type": "code",
   "execution_count": 51,
   "id": "bd097341",
   "metadata": {},
   "outputs": [
    {
     "data": {
      "text/plain": [
       "0.003770424781780357"
      ]
     },
     "execution_count": 51,
     "metadata": {},
     "output_type": "execute_result"
    }
   ],
   "source": [
    "\n",
    "h=np.min(f)\n",
    "h"
   ]
  },
  {
   "cell_type": "markdown",
   "id": "b5e0fec9",
   "metadata": {},
   "source": [
    "#### 11. Create a 5x5 matrix with values 1,2,3,4 just below the diagonal (★☆☆)\n",
    "`hint: np.diag"
   ]
  },
  {
   "cell_type": "code",
   "execution_count": 80,
   "id": "b47100c9",
   "metadata": {},
   "outputs": [
    {
     "data": {
      "text/plain": [
       "array([[ 0,  1,  2,  3,  4],\n",
       "       [ 5,  6,  7,  8,  9],\n",
       "       [10, 11, 12, 13, 14],\n",
       "       [15, 16, 17, 18, 19],\n",
       "       [20, 21, 22, 23, 24]])"
      ]
     },
     "execution_count": 80,
     "metadata": {},
     "output_type": "execute_result"
    }
   ],
   "source": [
    "k=np.arange(25).reshape((5,5))\n",
    "\n",
    "r=[1,2,3,4]\n",
    "k"
   ]
  },
  {
   "cell_type": "code",
   "execution_count": 74,
   "id": "4c93069e",
   "metadata": {},
   "outputs": [
    {
     "data": {
      "text/plain": [
       "array([[ 0,  0,  0,  0,  0],\n",
       "       [ 0,  6,  0,  0,  0],\n",
       "       [ 0,  0, 12,  0,  0],\n",
       "       [ 0,  0,  0, 18,  0],\n",
       "       [ 0,  0,  0,  0, 24]])"
      ]
     },
     "execution_count": 74,
     "metadata": {},
     "output_type": "execute_result"
    }
   ],
   "source": [
    "np.diag(np.diag((k)))"
   ]
  },
  {
   "cell_type": "code",
   "execution_count": 76,
   "id": "37d4ec63",
   "metadata": {},
   "outputs": [
    {
     "data": {
      "text/plain": [
       "array([[2., 0., 0., 0.],\n",
       "       [0., 2., 0., 0.],\n",
       "       [0., 0., 2., 0.],\n",
       "       [0., 0., 0., 2.]])"
      ]
     },
     "execution_count": 76,
     "metadata": {},
     "output_type": "execute_result"
    }
   ],
   "source": [
    "matrix = np.zeros((4, 4), float)\n",
    "main = np.array([2,2,2,2])\n",
    "np.fill_diagonal(matrix, main)\n",
    "matrix"
   ]
  },
  {
   "cell_type": "code",
   "execution_count": 81,
   "id": "bec5f2bd",
   "metadata": {},
   "outputs": [
    {
     "data": {
      "text/plain": [
       "array([[ 0,  1,  2,  3,  4],\n",
       "       [ 5,  6,  7,  8,  9],\n",
       "       [10, 11, 12, 13, 14],\n",
       "       [15, 16, 17, 18, 19],\n",
       "       [20, 21, 22, 23, 24]])"
      ]
     },
     "execution_count": 81,
     "metadata": {},
     "output_type": "execute_result"
    }
   ],
   "source": [
    "k"
   ]
  },
  {
   "cell_type": "code",
   "execution_count": 82,
   "id": "d394898d",
   "metadata": {},
   "outputs": [],
   "source": [
    "np.fill_diagonal(k[1:,:-1],r)"
   ]
  },
  {
   "cell_type": "code",
   "execution_count": 83,
   "id": "4599929c",
   "metadata": {},
   "outputs": [
    {
     "data": {
      "text/plain": [
       "array([[ 0,  1,  2,  3,  4],\n",
       "       [ 1,  6,  7,  8,  9],\n",
       "       [10,  2, 12, 13, 14],\n",
       "       [15, 16,  3, 18, 19],\n",
       "       [20, 21, 22,  4, 24]])"
      ]
     },
     "execution_count": 83,
     "metadata": {},
     "output_type": "execute_result"
    }
   ],
   "source": [
    "k"
   ]
  },
  {
   "cell_type": "code",
   "execution_count": 86,
   "id": "2aeeb72b",
   "metadata": {},
   "outputs": [
    {
     "data": {
      "text/plain": [
       "array([[ 1,  6,  7,  8],\n",
       "       [10,  2, 12, 13],\n",
       "       [15, 16,  3, 18],\n",
       "       [20, 21, 22,  4]])"
      ]
     },
     "execution_count": 86,
     "metadata": {},
     "output_type": "execute_result"
    }
   ],
   "source": [
    "k[1:,:-1]"
   ]
  },
  {
   "cell_type": "markdown",
   "id": "e3698668",
   "metadata": {},
   "source": [
    "#### 12. Normalize a 5x5 random matrix (★☆☆)\n",
    "`hint: (x -mean)/std`"
   ]
  },
  {
   "cell_type": "code",
   "execution_count": 89,
   "id": "659e9e57",
   "metadata": {},
   "outputs": [
    {
     "data": {
      "text/plain": [
       "array([[0.35949814, 0.72599943, 0.7382241 , 0.66606365, 0.38859441],\n",
       "       [0.05709729, 0.07298935, 0.966156  , 0.02192714, 0.85350204],\n",
       "       [0.63360053, 0.67429138, 0.08739486, 0.02331084, 0.94436106],\n",
       "       [0.0809801 , 0.23069241, 0.93001439, 0.03395867, 0.65174683],\n",
       "       [0.39528652, 0.62146804, 0.29111418, 0.201274  , 0.33297886]])"
      ]
     },
     "execution_count": 89,
     "metadata": {},
     "output_type": "execute_result"
    }
   ],
   "source": [
    "#to scale the values such that that the range of the \n",
    "#row or column values is between 0 and 1. \n",
    "\n",
    "j=np.random.random((5,5))\n",
    "j\n"
   ]
  },
  {
   "cell_type": "code",
   "execution_count": 90,
   "id": "f129d479",
   "metadata": {},
   "outputs": [],
   "source": [
    "mean=np.mean(j)"
   ]
  },
  {
   "cell_type": "code",
   "execution_count": 91,
   "id": "e41415e7",
   "metadata": {},
   "outputs": [],
   "source": [
    "std=np.std(j)"
   ]
  },
  {
   "cell_type": "code",
   "execution_count": 97,
   "id": "50839f09",
   "metadata": {},
   "outputs": [
    {
     "data": {
      "text/plain": [
       "array([[0.35949814, 0.72599943, 0.7382241 , 0.66606365, 0.38859441],\n",
       "       [0.05709729, 0.07298935, 0.966156  , 0.02192714, 0.85350204],\n",
       "       [0.63360053, 0.67429138, 0.08739486, 0.02331084, 0.94436106],\n",
       "       [0.0809801 , 0.23069241, 0.93001439, 0.03395867, 0.65174683],\n",
       "       [0.39528652, 0.62146804, 0.29111418, 0.201274  , 0.33297886]])"
      ]
     },
     "execution_count": 97,
     "metadata": {},
     "output_type": "execute_result"
    }
   ],
   "source": [
    "j"
   ]
  },
  {
   "cell_type": "code",
   "execution_count": 98,
   "id": "89af84cb",
   "metadata": {},
   "outputs": [],
   "source": [
    "l=(j-mean)/std"
   ]
  },
  {
   "cell_type": "code",
   "execution_count": 93,
   "id": "de704bd6",
   "metadata": {},
   "outputs": [
    {
     "name": "stdout",
     "output_type": "stream",
     "text": [
      "[[-0.25097469  0.9016479   0.94009368  0.71315379 -0.1594688 ]\n",
      " [-1.20200558 -1.15202608  1.65692461 -1.31261338  1.30263528]\n",
      " [ 0.6110594   0.73902948 -1.10672168 -1.30826174  1.58838094]\n",
      " [-1.1268957  -0.65606027  1.54326161 -1.27477501  0.66812834]\n",
      " [-0.13842256  0.57290353 -0.46603775 -0.74857926 -0.33437606]]\n"
     ]
    }
   ],
   "source": [
    "print(l)"
   ]
  },
  {
   "cell_type": "code",
   "execution_count": 95,
   "id": "a807c1e1",
   "metadata": {},
   "outputs": [
    {
     "name": "stdout",
     "output_type": "stream",
     "text": [
      "2.1444518837839888\n"
     ]
    }
   ],
   "source": [
    "hej=l[0,0]+l[0,1]+l[0,2]+l[0,3]+l[0,4]\n",
    "print (hej)"
   ]
  },
  {
   "cell_type": "code",
   "execution_count": 96,
   "id": "7d462aae",
   "metadata": {},
   "outputs": [],
   "source": [
    "from sklearn.preprocessing import normalize\n"
   ]
  },
  {
   "cell_type": "code",
   "execution_count": 99,
   "id": "afac299a",
   "metadata": {},
   "outputs": [],
   "source": [
    "normalized=normalize(j,axis=1,norm=\"l1\")"
   ]
  },
  {
   "cell_type": "code",
   "execution_count": 100,
   "id": "b345d45d",
   "metadata": {},
   "outputs": [
    {
     "data": {
      "text/plain": [
       "array([[0.12489601, 0.25222504, 0.2564721 , 0.23140229, 0.13500457],\n",
       "       [0.02895882, 0.03701901, 0.49001867, 0.01112109, 0.43288241],\n",
       "       [0.26813864, 0.28535894, 0.03698535, 0.00986511, 0.39965196],\n",
       "       [0.04201537, 0.11969146, 0.48252467, 0.01761897, 0.33814953],\n",
       "       [0.21458221, 0.33736537, 0.15803201, 0.10926206, 0.18075835]])"
      ]
     },
     "execution_count": 100,
     "metadata": {},
     "output_type": "execute_result"
    }
   ],
   "source": [
    "normalized"
   ]
  },
  {
   "cell_type": "markdown",
   "id": "2027510e",
   "metadata": {},
   "source": [
    "#### 13. How to find common values between two arrays? (★☆☆)\n",
    "`hint: np.intersect1d`"
   ]
  },
  {
   "cell_type": "code",
   "execution_count": 101,
   "id": "1a215d74",
   "metadata": {},
   "outputs": [
    {
     "data": {
      "text/plain": [
       "array([[1, 3, 4],\n",
       "       [2, 0, 0],\n",
       "       [0, 0, 3]])"
      ]
     },
     "execution_count": 101,
     "metadata": {},
     "output_type": "execute_result"
    }
   ],
   "source": [
    "a=[[1,2,3],[2,3,4],[1,0,4]]\n",
    "b=[[1,3,4],[2,0,0],[0,0,3]]\n",
    "\n",
    "B=np.array(b)\n",
    "B"
   ]
  },
  {
   "cell_type": "code",
   "execution_count": 103,
   "id": "d6dd21ea",
   "metadata": {},
   "outputs": [
    {
     "data": {
      "text/plain": [
       "array([[1, 2, 3],\n",
       "       [2, 3, 4],\n",
       "       [1, 0, 4]])"
      ]
     },
     "execution_count": 103,
     "metadata": {},
     "output_type": "execute_result"
    }
   ],
   "source": [
    "A=np.array(a)\n",
    "A\n"
   ]
  },
  {
   "cell_type": "code",
   "execution_count": 104,
   "id": "29808911",
   "metadata": {},
   "outputs": [
    {
     "data": {
      "text/plain": [
       "array([0, 1, 2, 3, 4])"
      ]
     },
     "execution_count": 104,
     "metadata": {},
     "output_type": "execute_result"
    }
   ],
   "source": [
    "np.intersect1d(A,B)"
   ]
  },
  {
   "cell_type": "markdown",
   "id": "7e9eab10",
   "metadata": {},
   "source": [
    "#### 14. Create a random vector of size 10 and sort it (★★☆)\n",
    "`hint: sort`\n"
   ]
  },
  {
   "cell_type": "code",
   "execution_count": 111,
   "id": "2aa0d4e2",
   "metadata": {},
   "outputs": [
    {
     "data": {
      "text/plain": [
       "array([0.78759113, 0.41300697, 0.80283016, 0.88071863, 0.86877414,\n",
       "       0.4961772 , 0.12947015, 0.6773096 , 0.14224844, 0.1520986 ])"
      ]
     },
     "execution_count": 111,
     "metadata": {},
     "output_type": "execute_result"
    }
   ],
   "source": [
    "z=np.random.rand(10)\n",
    "z"
   ]
  },
  {
   "cell_type": "code",
   "execution_count": 112,
   "id": "e59c219e",
   "metadata": {},
   "outputs": [
    {
     "name": "stdout",
     "output_type": "stream",
     "text": [
      "[0.12947015 0.14224844 0.1520986  0.41300697 0.4961772  0.6773096\n",
      " 0.78759113 0.80283016 0.86877414 0.88071863]\n"
     ]
    }
   ],
   "source": [
    "print(np.sort(z))\n"
   ]
  },
  {
   "cell_type": "markdown",
   "id": "a63e6ef4",
   "metadata": {},
   "source": [
    "#### 15. Create random vector of size 10 and replace the maximum value by 0 (★★☆)\n",
    "`hint: argmax"
   ]
  },
  {
   "cell_type": "code",
   "execution_count": 113,
   "id": "2105de58",
   "metadata": {},
   "outputs": [
    {
     "data": {
      "text/plain": [
       "array([0.19385352, 0.15653661, 0.46657161, 0.56592248, 0.24436096,\n",
       "       0.67035788, 0.86363553, 0.71343716, 0.56983353, 0.97245593])"
      ]
     },
     "execution_count": 113,
     "metadata": {},
     "output_type": "execute_result"
    }
   ],
   "source": [
    "zz=np.random.rand(10)\n",
    "zz"
   ]
  },
  {
   "cell_type": "code",
   "execution_count": 114,
   "id": "7a5f3235",
   "metadata": {},
   "outputs": [
    {
     "data": {
      "text/plain": [
       "9"
      ]
     },
     "execution_count": 114,
     "metadata": {},
     "output_type": "execute_result"
    }
   ],
   "source": [
    "np.argmax(zz)"
   ]
  },
  {
   "cell_type": "code",
   "execution_count": 115,
   "id": "7ee10431",
   "metadata": {},
   "outputs": [
    {
     "data": {
      "text/plain": [
       "array([0.19385352, 0.15653661, 0.46657161, 0.56592248, 0.24436096,\n",
       "       0.67035788, 0.86363553, 0.71343716, 0.56983353, 0.        ])"
      ]
     },
     "execution_count": 115,
     "metadata": {},
     "output_type": "execute_result"
    }
   ],
   "source": [
    "zz[9]=0\n",
    "zz"
   ]
  },
  {
   "cell_type": "markdown",
   "id": "0eb92714",
   "metadata": {},
   "source": [
    "#### 16. Subtract the mean of each row of a matrix (★★☆)\n",
    "`hint: mean(axis=,keepdims=)`"
   ]
  },
  {
   "cell_type": "code",
   "execution_count": 129,
   "id": "ff189d47",
   "metadata": {},
   "outputs": [
    {
     "data": {
      "text/plain": [
       "array([[1, 0, 2],\n",
       "       [0, 3, 0],\n",
       "       [0, 2, 3]])"
      ]
     },
     "execution_count": 129,
     "metadata": {},
     "output_type": "execute_result"
    }
   ],
   "source": [
    "cc=np.random.randint(0,4,(3,3))\n",
    "cc"
   ]
  },
  {
   "cell_type": "code",
   "execution_count": 134,
   "id": "0ca4f886",
   "metadata": {},
   "outputs": [
    {
     "data": {
      "text/plain": [
       "array([0.33333333, 1.66666667, 1.66666667])"
      ]
     },
     "execution_count": 134,
     "metadata": {},
     "output_type": "execute_result"
    }
   ],
   "source": [
    "np.mean(cc,0)"
   ]
  },
  {
   "cell_type": "code",
   "execution_count": 146,
   "id": "a9eeec59",
   "metadata": {},
   "outputs": [],
   "source": [
    "# I have no idea what subtract means here??\n"
   ]
  },
  {
   "cell_type": "markdown",
   "id": "5d49b0b5",
   "metadata": {},
   "source": [
    "#### 17. How to get the n largest values of an array (★★★)\n",
    "`Z = np.arange(10000) \n",
    "np.random.shuffle(Z)\n",
    "n = 5\n",
    "hint: np.argsort | np.argpartition"
   ]
  },
  {
   "cell_type": "code",
   "execution_count": 153,
   "id": "8359ecbf",
   "metadata": {},
   "outputs": [
    {
     "data": {
      "text/plain": [
       "array([3033, 1997, 2588, ...,  248, 8170, 1888])"
      ]
     },
     "execution_count": 153,
     "metadata": {},
     "output_type": "execute_result"
    }
   ],
   "source": [
    "z=np.arange(10000)\n",
    "np.random.shuffle(z)\n",
    "z"
   ]
  },
  {
   "cell_type": "code",
   "execution_count": 155,
   "id": "a148d156",
   "metadata": {},
   "outputs": [
    {
     "data": {
      "text/plain": [
       "5988"
      ]
     },
     "execution_count": 155,
     "metadata": {},
     "output_type": "execute_result"
    }
   ],
   "source": [
    "a=np.argmax(z)\n",
    "a"
   ]
  },
  {
   "cell_type": "code",
   "execution_count": 156,
   "id": "4d150935",
   "metadata": {},
   "outputs": [
    {
     "data": {
      "text/plain": [
       "9999"
      ]
     },
     "execution_count": 156,
     "metadata": {},
     "output_type": "execute_result"
    }
   ],
   "source": [
    "z[5988]"
   ]
  },
  {
   "cell_type": "code",
   "execution_count": 157,
   "id": "7bf829a8",
   "metadata": {},
   "outputs": [
    {
     "data": {
      "text/plain": [
       "array([3985, 1749, 5713, ..., 9891,  820, 5988])"
      ]
     },
     "execution_count": 157,
     "metadata": {},
     "output_type": "execute_result"
    }
   ],
   "source": [
    "b=np.argsort(z)\n",
    "\n",
    "b"
   ]
  },
  {
   "cell_type": "code",
   "execution_count": 158,
   "id": "d41a8b50",
   "metadata": {},
   "outputs": [
    {
     "data": {
      "text/plain": [
       "9954"
      ]
     },
     "execution_count": 158,
     "metadata": {},
     "output_type": "execute_result"
    }
   ],
   "source": [
    "b[-5]"
   ]
  },
  {
   "cell_type": "code",
   "execution_count": 159,
   "id": "3b0cdc68",
   "metadata": {},
   "outputs": [
    {
     "data": {
      "text/plain": [
       "9995"
      ]
     },
     "execution_count": 159,
     "metadata": {},
     "output_type": "execute_result"
    }
   ],
   "source": [
    "z[9954]"
   ]
  },
  {
   "cell_type": "markdown",
   "id": "6d53f1f1",
   "metadata": {},
   "source": [
    "#### 18. Create a random 5*3 matrix and replace items that are larger than 4 by their squares ( Example:  6 --> 36) \n",
    "`hint: np.where`"
   ]
  },
  {
   "cell_type": "code",
   "execution_count": 192,
   "id": "f61daf8f",
   "metadata": {},
   "outputs": [
    {
     "data": {
      "text/plain": [
       "array([[9, 5, 8],\n",
       "       [9, 7, 0],\n",
       "       [1, 4, 3],\n",
       "       [7, 1, 5],\n",
       "       [9, 9, 7]])"
      ]
     },
     "execution_count": 192,
     "metadata": {},
     "output_type": "execute_result"
    }
   ],
   "source": [
    "w=np.random.randint(0,10,(5,3))\n",
    "w"
   ]
  },
  {
   "cell_type": "code",
   "execution_count": 195,
   "id": "e9012c16",
   "metadata": {},
   "outputs": [
    {
     "data": {
      "text/plain": [
       "(array([2]), array([1]))"
      ]
     },
     "execution_count": 195,
     "metadata": {},
     "output_type": "execute_result"
    }
   ],
   "source": [
    "l= np.where(w==4)\n",
    "\n",
    "l"
   ]
  },
  {
   "cell_type": "code",
   "execution_count": 196,
   "id": "d6364326",
   "metadata": {},
   "outputs": [
    {
     "data": {
      "text/plain": [
       "array([[9, 5, 8],\n",
       "       [9, 7, 0],\n",
       "       [1, 4, 3],\n",
       "       [7, 1, 5],\n",
       "       [9, 9, 7]])"
      ]
     },
     "execution_count": 196,
     "metadata": {},
     "output_type": "execute_result"
    }
   ],
   "source": [
    "w"
   ]
  },
  {
   "cell_type": "code",
   "execution_count": 197,
   "id": "d30ef575",
   "metadata": {},
   "outputs": [
    {
     "data": {
      "text/plain": [
       "array([[ 9,  5,  8],\n",
       "       [ 9,  7,  0],\n",
       "       [ 1, 16,  3],\n",
       "       [ 7,  1,  5],\n",
       "       [ 9,  9,  7]])"
      ]
     },
     "execution_count": 197,
     "metadata": {},
     "output_type": "execute_result"
    }
   ],
   "source": [
    "w[2,1]=((w[2,1])**2)\n",
    "w\n"
   ]
  },
  {
   "cell_type": "code",
   "execution_count": null,
   "id": "3f6b3de7",
   "metadata": {},
   "outputs": [],
   "source": []
  },
  {
   "cell_type": "code",
   "execution_count": null,
   "id": "3a2d9dd0",
   "metadata": {},
   "outputs": [],
   "source": []
  }
 ],
 "metadata": {
  "kernelspec": {
   "display_name": "Python 3 (ipykernel)",
   "language": "python",
   "name": "python3"
  },
  "language_info": {
   "codemirror_mode": {
    "name": "ipython",
    "version": 3
   },
   "file_extension": ".py",
   "mimetype": "text/x-python",
   "name": "python",
   "nbconvert_exporter": "python",
   "pygments_lexer": "ipython3",
   "version": "3.9.12"
  },
  "toc": {
   "base_numbering": 1,
   "nav_menu": {},
   "number_sections": true,
   "sideBar": true,
   "skip_h1_title": false,
   "title_cell": "Table of Contents",
   "title_sidebar": "Contents",
   "toc_cell": false,
   "toc_position": {},
   "toc_section_display": true,
   "toc_window_display": false
  }
 },
 "nbformat": 4,
 "nbformat_minor": 5
}
